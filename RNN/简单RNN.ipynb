{
 "metadata": {
  "language_info": {
   "codemirror_mode": {
    "name": "ipython",
    "version": 3
   },
   "file_extension": ".py",
   "mimetype": "text/x-python",
   "name": "python",
   "nbconvert_exporter": "python",
   "pygments_lexer": "ipython3",
   "version": "3.9.1-final"
  },
  "orig_nbformat": 2,
  "kernelspec": {
   "name": "python3",
   "display_name": "Python 3",
   "language": "python"
  }
 },
 "nbformat": 4,
 "nbformat_minor": 2,
 "cells": [
  {
   "cell_type": "code",
   "execution_count": 1,
   "metadata": {},
   "outputs": [],
   "source": [
    "import numpy as np"
   ]
  },
  {
   "cell_type": "code",
   "execution_count": 2,
   "metadata": {},
   "outputs": [],
   "source": [
    "timesteps = 100     \n",
    "input_features = 32\n",
    "output_features = 64\n",
    "\n",
    "inputs = np.random.random((timesteps, input_features))  #产生随机的输入数据\n",
    "\n",
    "state_t = np.zeros((output_features,))\n",
    "\n",
    "W = np.random.random((output_features, input_features))         #input\n",
    "U = np.random.random((output_features, output_features))        #loop\n",
    "b = np.random.random((output_features,))                        #bias\n",
    "\n",
    "succesive_outputs = []\n",
    "\n",
    "#RNN向前传播\n",
    "\n",
    "for input_t in inputs:\n",
    "    output_t = np.tanh(np.dot(W, input_t) + np.dot(U, state_t) + b)\n",
    "\n",
    "    succesive_outputs.append(output_t)\n",
    "\n",
    "    state_t = output_t\n",
    "\n",
    "final_output_sequence = np.stack(succesive_outputs, axis=0)"
   ]
  },
  {
   "cell_type": "code",
   "execution_count": 3,
   "metadata": {},
   "outputs": [],
   "source": [
    "from tensorflow.keras.layers import SimpleRNN\n",
    "from tensorflow.keras.layers import Embedding, Dense\n",
    "from tensorflow.keras.models import Sequential, Model\n"
   ]
  },
  {
   "cell_type": "code",
   "execution_count": 4,
   "metadata": {},
   "outputs": [
    {
     "output_type": "stream",
     "name": "stdout",
     "text": [
      "loading......\n",
      "input_train shape: (25000,)\n",
      "input_test shape: (25000,)\n",
      "Pad sequences (sample x time)\n",
      "input_train shape: (25000, 500)\n",
      "input_test shape: (25000, 500)\n"
     ]
    }
   ],
   "source": [
    "from tensorflow.keras.datasets import imdb\n",
    "from tensorflow.keras.preprocessing import sequence\n",
    "\n",
    "max_features = 10000\n",
    "maxlen = 500\n",
    "batch_size = 32\n",
    "\n",
    "print('loading......')\n",
    "(input_train, y_train), (input_test, y_test) = imdb.load_data(num_words=max_features)\n",
    "print('input_train shape:', input_train.shape)\n",
    "print('input_test shape:', input_test.shape)\n",
    "\n",
    "print('Pad sequences (sample x time)')\n",
    "input_train = sequence.pad_sequences(input_train, maxlen=maxlen)\n",
    "input_test = sequence.pad_sequences(input_test, maxlen=maxlen)\n",
    "print('input_train shape:', input_train.shape)\n",
    "print('input_test shape:', input_test.shape)"
   ]
  },
  {
   "cell_type": "code",
   "execution_count": 14,
   "metadata": {},
   "outputs": [],
   "source": [
    "model = Sequential()\n",
    "model.add(Embedding(max_features, 32))\n",
    "model.add(SimpleRNN(32))\n",
    "model.add(Dense(1, activation='sigmoid'))\n",
    "model.compile(\n",
    "    loss='binary_crossentropy',\n",
    "    metrics=['acc'],\n",
    "    optimizer='RMSprop'\n",
    ")"
   ]
  },
  {
   "cell_type": "code",
   "execution_count": 15,
   "metadata": {},
   "outputs": [
    {
     "output_type": "stream",
     "name": "stdout",
     "text": [
      "Epoch 1/10\n",
      "157/157 [==============================] - 30s 178ms/step - loss: 0.6818 - acc: 0.5487 - val_loss: 0.5377 - val_acc: 0.7260\n",
      "Epoch 2/10\n",
      "157/157 [==============================] - 29s 187ms/step - loss: 0.4339 - acc: 0.8109 - val_loss: 0.4964 - val_acc: 0.7568\n",
      "Epoch 3/10\n",
      "157/157 [==============================] - 30s 192ms/step - loss: 0.2999 - acc: 0.8808 - val_loss: 0.3770 - val_acc: 0.8466\n",
      "Epoch 4/10\n",
      "157/157 [==============================] - 30s 191ms/step - loss: 0.2107 - acc: 0.9201 - val_loss: 0.3614 - val_acc: 0.8490\n",
      "Epoch 5/10\n",
      "157/157 [==============================] - 30s 194ms/step - loss: 0.1654 - acc: 0.9416 - val_loss: 0.5569 - val_acc: 0.7922\n",
      "Epoch 6/10\n",
      "157/157 [==============================] - 30s 190ms/step - loss: 0.1407 - acc: 0.9495 - val_loss: 0.5402 - val_acc: 0.7986\n",
      "Epoch 7/10\n",
      "157/157 [==============================] - 30s 191ms/step - loss: 0.0855 - acc: 0.9729 - val_loss: 0.4595 - val_acc: 0.8522\n",
      "Epoch 8/10\n",
      "157/157 [==============================] - 30s 192ms/step - loss: 0.0461 - acc: 0.9868 - val_loss: 0.6060 - val_acc: 0.8122\n",
      "Epoch 9/10\n",
      "157/157 [==============================] - 30s 192ms/step - loss: 0.0287 - acc: 0.9920 - val_loss: 0.6402 - val_acc: 0.7942\n",
      "Epoch 10/10\n",
      "157/157 [==============================] - 30s 193ms/step - loss: 0.0222 - acc: 0.9944 - val_loss: 0.8181 - val_acc: 0.7630\n"
     ]
    },
    {
     "output_type": "execute_result",
     "data": {
      "text/plain": [
       "<tensorflow.python.keras.callbacks.History at 0x7f81042611c0>"
      ]
     },
     "metadata": {},
     "execution_count": 15
    }
   ],
   "source": [
    "model.fit(\n",
    "    input_train, y_train,\n",
    "    epochs=10,\n",
    "    batch_size=128,\n",
    "    validation_split=0.2\n",
    ")"
   ]
  },
  {
   "cell_type": "code",
   "execution_count": 16,
   "metadata": {},
   "outputs": [
    {
     "output_type": "stream",
     "name": "stdout",
     "text": [
      "Model: \"sequential_4\"\n_________________________________________________________________\nLayer (type)                 Output Shape              Param #   \n=================================================================\nembedding_4 (Embedding)      (None, None, 32)          320000    \n_________________________________________________________________\nsimple_rnn_9 (SimpleRNN)     (None, 32)                2080      \n_________________________________________________________________\ndense (Dense)                (None, 1)                 33        \n=================================================================\nTotal params: 322,113\nTrainable params: 322,113\nNon-trainable params: 0\n_________________________________________________________________\n"
     ]
    }
   ],
   "source": [
    "model.summary()"
   ]
  },
  {
   "cell_type": "code",
   "execution_count": 4,
   "metadata": {},
   "outputs": [],
   "source": [
    "model = Sequential()\n",
    "model.add(Embedding(10000, 32))\n",
    "model.add(SimpleRNN(32, return_sequences=True))\n",
    "model.add(SimpleRNN(32, return_sequences=True))\n",
    "model.add(SimpleRNN(32, return_sequences=True))\n",
    "model.add(SimpleRNN(32))\n",
    "model.add(Dense(1, activation='sigmoid'))\n",
    "model.compile(\n",
    "    loss='binary_crossentropy',\n",
    "    metrics=['acc'],\n",
    "    optimizer='RMSprop'\n",
    ")"
   ]
  },
  {
   "cell_type": "code",
   "execution_count": 5,
   "metadata": {},
   "outputs": [],
   "source": [
    "from tensorflow.keras.callbacks import TensorBoard\n",
    "import datetime\n",
    "from tensorflow.compat.v1 import ConfigProto\n",
    "from tensorflow.compat.v1 import InteractiveSession\n",
    "from tensorflow.compat.v1.keras.backend import set_session\n",
    "from tensorflow.compat.v1 import ConfigProto, Session\n",
    "import tensorflow.keras\n",
    "config = ConfigProto(allow_soft_placement=True)\n",
    "\n",
    "config.gpu_options.per_process_gpu_memory_fraction = 0.7\n",
    "set_session(Session(config=config))"
   ]
  },
  {
   "cell_type": "code",
   "execution_count": 6,
   "metadata": {},
   "outputs": [
    {
     "output_type": "stream",
     "name": "stdout",
     "text": [
      "Epoch 1/10\n",
      "157/157 [==============================] - 140s 859ms/step - loss: 0.6960 - acc: 0.5119 - val_loss: 0.6867 - val_acc: 0.5526\n",
      "Epoch 2/10\n",
      "157/157 [==============================] - 124s 793ms/step - loss: 0.6026 - acc: 0.6717 - val_loss: 0.6964 - val_acc: 0.5966\n",
      "Epoch 3/10\n",
      "157/157 [==============================] - 121s 769ms/step - loss: 0.3574 - acc: 0.8496 - val_loss: 0.5652 - val_acc: 0.7468\n",
      "Epoch 4/10\n",
      "157/157 [==============================] - 123s 782ms/step - loss: 0.1492 - acc: 0.9465 - val_loss: 0.8697 - val_acc: 0.6660\n",
      "Epoch 5/10\n",
      "157/157 [==============================] - 123s 783ms/step - loss: 0.0610 - acc: 0.9800 - val_loss: 1.1443 - val_acc: 0.6716\n",
      "Epoch 6/10\n",
      "157/157 [==============================] - 123s 786ms/step - loss: 0.0212 - acc: 0.9938 - val_loss: 1.0060 - val_acc: 0.7616\n",
      "Epoch 7/10\n",
      "157/157 [==============================] - 123s 781ms/step - loss: 0.0122 - acc: 0.9956 - val_loss: 1.2867 - val_acc: 0.7298\n",
      "Epoch 8/10\n",
      "157/157 [==============================] - 123s 781ms/step - loss: 0.0095 - acc: 0.9970 - val_loss: 1.4246 - val_acc: 0.7002\n",
      "Epoch 9/10\n",
      "157/157 [==============================] - 123s 785ms/step - loss: 0.0021 - acc: 0.9994 - val_loss: 1.5128 - val_acc: 0.7376\n",
      "Epoch 10/10\n",
      "157/157 [==============================] - 123s 785ms/step - loss: 0.0061 - acc: 0.9980 - val_loss: 1.2952 - val_acc: 0.7754\n"
     ]
    },
    {
     "output_type": "execute_result",
     "data": {
      "text/plain": [
       "<tensorflow.python.keras.callbacks.History at 0x7f7656e8f970>"
      ]
     },
     "metadata": {},
     "execution_count": 6
    }
   ],
   "source": [
    "log_dir = '/home/oneran/Mycodes/DeepLearning/log/SimpleRNN_' + str(datetime.datetime.now()) + '_runtime_1'\n",
    "callbacks_tensorboard = TensorBoard(log_dir=log_dir, histogram_freq=1)\n",
    "model.fit(\n",
    "    input_train, y_train,\n",
    "    epochs=10,\n",
    "    batch_size=128,\n",
    "    validation_split=0.2,\n",
    "    callbacks=callbacks_tensorboard\n",
    ")"
   ]
  },
  {
   "cell_type": "code",
   "execution_count": 12,
   "metadata": {},
   "outputs": [
    {
     "output_type": "stream",
     "name": "stdout",
     "text": [
      "Epoch 1/10\n",
      "157/157 [==============================] - 7s 35ms/step - loss: 0.6165 - acc: 0.6601 - val_loss: 0.4286 - val_acc: 0.8230\n",
      "Epoch 2/10\n",
      "157/157 [==============================] - 5s 31ms/step - loss: 0.3272 - acc: 0.8686 - val_loss: 0.4035 - val_acc: 0.8156\n",
      "Epoch 3/10\n",
      "157/157 [==============================] - 5s 31ms/step - loss: 0.2381 - acc: 0.9106 - val_loss: 0.2789 - val_acc: 0.8860\n",
      "Epoch 4/10\n",
      "157/157 [==============================] - 5s 31ms/step - loss: 0.1953 - acc: 0.9285 - val_loss: 0.2920 - val_acc: 0.8894\n",
      "Epoch 5/10\n",
      "157/157 [==============================] - 5s 32ms/step - loss: 0.1694 - acc: 0.9407 - val_loss: 0.4790 - val_acc: 0.8420\n",
      "Epoch 6/10\n",
      "157/157 [==============================] - 5s 31ms/step - loss: 0.1508 - acc: 0.9471 - val_loss: 0.3874 - val_acc: 0.8654\n",
      "Epoch 7/10\n",
      "157/157 [==============================] - 5s 31ms/step - loss: 0.1385 - acc: 0.9543 - val_loss: 0.3440 - val_acc: 0.8680\n",
      "Epoch 8/10\n",
      "157/157 [==============================] - 5s 32ms/step - loss: 0.1102 - acc: 0.9638 - val_loss: 0.3187 - val_acc: 0.8742\n",
      "Epoch 9/10\n",
      "157/157 [==============================] - 5s 31ms/step - loss: 0.1084 - acc: 0.9642 - val_loss: 0.4643 - val_acc: 0.8540\n",
      "Epoch 10/10\n",
      "157/157 [==============================] - 5s 31ms/step - loss: 0.0973 - acc: 0.9684 - val_loss: 0.3646 - val_acc: 0.8762\n"
     ]
    }
   ],
   "source": [
    "from tensorflow.keras.layers import LSTM\n",
    "model = Sequential()\n",
    "model.add(Embedding(max_features, 32))\n",
    "model.add(LSTM(32))\n",
    "model.add(Dense(1, activation='sigmoid'))\n",
    "model.compile(\n",
    "    loss='binary_crossentropy',\n",
    "    metrics=['acc'],\n",
    "    optimizer='RMSprop'\n",
    ")\n",
    "history = model.fit(\n",
    "    input_train, y_train,\n",
    "    epochs=10,\n",
    "    batch_size=128,\n",
    "    validation_split=0.2\n",
    ")"
   ]
  },
  {
   "cell_type": "code",
   "execution_count": 13,
   "metadata": {},
   "outputs": [
    {
     "output_type": "stream",
     "name": "stdout",
     "text": [
      "Model: \"sequential_4\"\n_________________________________________________________________\nLayer (type)                 Output Shape              Param #   \n=================================================================\nembedding_4 (Embedding)      (None, None, 32)          320000    \n_________________________________________________________________\nlstm_1 (LSTM)                (None, 32)                8320      \n_________________________________________________________________\ndense_9 (Dense)              (None, 1)                 33        \n=================================================================\nTotal params: 328,353\nTrainable params: 328,353\nNon-trainable params: 0\n_________________________________________________________________\n"
     ]
    }
   ],
   "source": [
    "model.summary()"
   ]
  },
  {
   "cell_type": "code",
   "execution_count": 10,
   "metadata": {},
   "outputs": [
    {
     "output_type": "stream",
     "name": "stdout",
     "text": [
      "Epoch 1/10\n",
      "157/157 [==============================] - 4s 17ms/step - loss: 0.6917 - acc: 0.5171 - val_loss: 0.6885 - val_acc: 0.5216\n",
      "Epoch 2/10\n",
      "157/157 [==============================] - 2s 15ms/step - loss: 0.6873 - acc: 0.5161 - val_loss: 0.6870 - val_acc: 0.5253\n",
      "Epoch 3/10\n",
      "157/157 [==============================] - 2s 15ms/step - loss: 0.6866 - acc: 0.5288 - val_loss: 0.6877 - val_acc: 0.5203\n",
      "Epoch 4/10\n",
      "157/157 [==============================] - 2s 16ms/step - loss: 0.6867 - acc: 0.5234 - val_loss: 0.6870 - val_acc: 0.5254\n",
      "Epoch 5/10\n",
      "157/157 [==============================] - 2s 15ms/step - loss: 0.6862 - acc: 0.5291 - val_loss: 0.6873 - val_acc: 0.5223\n",
      "Epoch 6/10\n",
      "157/157 [==============================] - 2s 16ms/step - loss: 0.6863 - acc: 0.5263 - val_loss: 0.6869 - val_acc: 0.5253\n",
      "Epoch 7/10\n",
      "157/157 [==============================] - 2s 15ms/step - loss: 0.6863 - acc: 0.5270 - val_loss: 0.6869 - val_acc: 0.5253\n",
      "Epoch 8/10\n",
      "157/157 [==============================] - 2s 15ms/step - loss: 0.6860 - acc: 0.5311 - val_loss: 0.6872 - val_acc: 0.5248\n",
      "Epoch 9/10\n",
      "157/157 [==============================] - 2s 15ms/step - loss: 0.6862 - acc: 0.5229 - val_loss: 0.6870 - val_acc: 0.5252\n",
      "Epoch 10/10\n",
      "157/157 [==============================] - 2s 15ms/step - loss: 0.6862 - acc: 0.5221 - val_loss: 0.6873 - val_acc: 0.5250\n"
     ]
    },
    {
     "output_type": "execute_result",
     "data": {
      "text/plain": [
       "<tensorflow.python.keras.callbacks.History at 0x7f6bcdef2040>"
      ]
     },
     "metadata": {},
     "execution_count": 10
    }
   ],
   "source": [
    "model = Sequential()\n",
    "model.add(Embedding(max_features, 32))\n",
    "model.add(Dense(64, activation='relu'))\n",
    "model.add(Dense(64, activation='relu'))\n",
    "model.add(Dense(1, activation='sigmoid'))\n",
    "model.compile(\n",
    "    loss='binary_crossentropy',\n",
    "    metrics=['acc'],\n",
    "    optimizer='RMSprop'\n",
    ")\n",
    "model.fit(\n",
    "    input_train, y_train,\n",
    "    validation_split=0.2,\n",
    "    batch_size=128,\n",
    "    epochs=10\n",
    ")"
   ]
  },
  {
   "cell_type": "code",
   "execution_count": 11,
   "metadata": {},
   "outputs": [
    {
     "output_type": "stream",
     "name": "stdout",
     "text": [
      "Model: \"sequential_3\"\n_________________________________________________________________\nLayer (type)                 Output Shape              Param #   \n=================================================================\nembedding_3 (Embedding)      (None, None, 32)          320000    \n_________________________________________________________________\ndense_6 (Dense)              (None, None, 64)          2112      \n_________________________________________________________________\ndense_7 (Dense)              (None, None, 64)          4160      \n_________________________________________________________________\ndense_8 (Dense)              (None, None, 1)           65        \n=================================================================\nTotal params: 326,337\nTrainable params: 326,337\nNon-trainable params: 0\n_________________________________________________________________\n"
     ]
    }
   ],
   "source": [
    "model.summary()"
   ]
  },
  {
   "cell_type": "code",
   "execution_count": null,
   "metadata": {},
   "outputs": [],
   "source": []
  }
 ]
}