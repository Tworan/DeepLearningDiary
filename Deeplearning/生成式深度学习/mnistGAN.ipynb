{
 "metadata": {
  "language_info": {
   "codemirror_mode": {
    "name": "ipython",
    "version": 3
   },
   "file_extension": ".py",
   "mimetype": "text/x-python",
   "name": "python",
   "nbconvert_exporter": "python",
   "pygments_lexer": "ipython3",
   "version": "3.9.2-final"
  },
  "orig_nbformat": 2,
  "kernelspec": {
   "name": "python3",
   "display_name": "Python 3.9.2 64-bit",
   "metadata": {
    "interpreter": {
     "hash": "767d51c1340bd893661ea55ea3124f6de3c7a262a8b4abca0554b478b1e2ff90"
    }
   }
  }
 },
 "nbformat": 4,
 "nbformat_minor": 2,
 "cells": [
  {
   "source": [
    "# GAN for mnist datasets"
   ],
   "cell_type": "markdown",
   "metadata": {}
  },
  {
   "source": [
    "## 1. 导入相关库并配置GPU"
   ],
   "cell_type": "markdown",
   "metadata": {}
  },
  {
   "cell_type": "code",
   "execution_count": 1,
   "metadata": {},
   "outputs": [],
   "source": [
    "from tensorflow import keras\n",
    "from tensorflow.keras import layers, optimizers\n",
    "import numpy as np\n",
    "from tensorflow.keras.preprocessing import image\n",
    "\n",
    "from tensorflow.compat.v1 import ConfigProto\n",
    "from tensorflow.compat.v1 import InteractiveSession\n",
    "from tensorflow.compat.v1.keras.backend import set_session\n",
    "from tensorflow.compat.v1 import ConfigProto, Session\n",
    "config = ConfigProto(allow_soft_placement=True)\n",
    "config.gpu_options.per_process_gpu_memory_fraction = 0.7\n",
    "set_session(Session(config=config))\n",
    "\n",
    "from matplotlib import pyplot as plt"
   ]
  },
  {
   "source": [
    "## 2. 先加载数据"
   ],
   "cell_type": "markdown",
   "metadata": {}
  },
  {
   "cell_type": "code",
   "execution_count": 2,
   "metadata": {},
   "outputs": [
    {
     "output_type": "execute_result",
     "data": {
      "text/plain": [
       "<matplotlib.image.AxesImage at 0x7f9ba02725b0>"
      ]
     },
     "metadata": {},
     "execution_count": 2
    },
    {
     "output_type": "display_data",
     "data": {
      "text/plain": "<Figure size 432x288 with 1 Axes>",
      "image/svg+xml": "<?xml version=\"1.0\" encoding=\"utf-8\" standalone=\"no\"?>\n<!DOCTYPE svg PUBLIC \"-//W3C//DTD SVG 1.1//EN\"\n  \"http://www.w3.org/Graphics/SVG/1.1/DTD/svg11.dtd\">\n<svg height=\"248.518125pt\" version=\"1.1\" viewBox=\"0 0 251.565 248.518125\" width=\"251.565pt\" xmlns=\"http://www.w3.org/2000/svg\" xmlns:xlink=\"http://www.w3.org/1999/xlink\">\n <metadata>\n  <rdf:RDF xmlns:cc=\"http://creativecommons.org/ns#\" xmlns:dc=\"http://purl.org/dc/elements/1.1/\" xmlns:rdf=\"http://www.w3.org/1999/02/22-rdf-syntax-ns#\">\n   <cc:Work>\n    <dc:type rdf:resource=\"http://purl.org/dc/dcmitype/StillImage\"/>\n    <dc:date>2021-03-30T21:13:09.222530</dc:date>\n    <dc:format>image/svg+xml</dc:format>\n    <dc:creator>\n     <cc:Agent>\n      <dc:title>Matplotlib v3.4.0, https://matplotlib.org/</dc:title>\n     </cc:Agent>\n    </dc:creator>\n   </cc:Work>\n  </rdf:RDF>\n </metadata>\n <defs>\n  <style type=\"text/css\">*{stroke-linecap:butt;stroke-linejoin:round;}</style>\n </defs>\n <g id=\"figure_1\">\n  <g id=\"patch_1\">\n   <path d=\"M 0 248.518125 \nL 251.565 248.518125 \nL 251.565 0 \nL 0 0 \nz\n\" style=\"fill:none;\"/>\n  </g>\n  <g id=\"axes_1\">\n   <g id=\"patch_2\">\n    <path d=\"M 26.925 224.64 \nL 244.365 224.64 \nL 244.365 7.2 \nL 26.925 7.2 \nz\n\" style=\"fill:#ffffff;\"/>\n   </g>\n   <g clip-path=\"url(#pa26d7e1368)\">\n    <image height=\"218\" id=\"image5d982fbda1\" transform=\"scale(1 -1)translate(0 -218)\" width=\"218\" x=\"26.925\" xlink:href=\"data:image/png;base64,\niVBORw0KGgoAAAANSUhEUgAAANoAAADaCAYAAADAHVzbAAAGHklEQVR4nO3dvUvW/x7HcX9HaehWbCgIImwwKiLoRogoIiiIguxmcGhtkppagqDF+EHUIDVIQ+B/ULQUQtYQSNLdEARNETgmlEVhdqZz4MC53tKlvvylj8f64uv3O/jkA9eXS/9qaWn51QLMq38t9APAUiA0CBAaBAgNAoQGAUKDAKFBgNAgQGgQIDQIEBoECA0ChAYBQoMAoUGA0CBAaBAgNAgQGgQIDQKEBgFCg4C2hbz533//Xe6XLl2at3u/ffu23B88eFDuU1NT5X7jxo2G28TERHkti48TDQKEBgFCgwChQYDQIEBoECA0CPirZQH/bVN3d3e5z/Qebe/evQ23DRs2NPVMc+Xr168Nt4GBgfLaa9eulfvk5GRTz8TCcaJBgNAgQGgQIDQIEBoECA0ChAYBC/oebbY6OjoaboODg+W1O3fuLPfOzs5mHmlOPHv2rNyr77q1tLS0PHz4sNy/ffv228/E7DjRIEBoECA0CBAaBAgNAoQGAUKDgD/6PdpsrFu3rty3bt1a7rdu3Sr3LVu2/PYzzZXR0dFyv379esPt3r175bXT09NNPdNS50SDAKFBgNAgQGgQIDQIEBoECA0Clux7tNlav359uff29jbc+vr6yms3bdrUzCPNibGxsXLv7+8v9/v378/l4ywaTjQIEBoECA0ChAYBQoMAoUGAj/cXQFdXV7nP9PH/qVOnyn2mVw+z8fPnz3IfHh4u92PHjs3l4/wxnGgQIDQIEBoECA0ChAYBQoMAoUGA92h/oB07dpT7mTNnyn3Pnj0NtyNHjjT1TP/x5s2bct+1a1fDbTH/KTsnGgQIDQKEBgFCgwChQYDQIEBoEOA9Gv/j+/fv5d7W1lbuU1NT5X706NGG28jISHntn8yJBgFCgwChQYDQIEBoECA0CBAaBNQvRfgjtbe3l/uJEycabq2trbO699OnT8t9Mb8rqzjRIEBoECA0CBAaBAgNAoQGAT7e/wNt37693G/evFnuhw8fbvreg4OD5d7f39/0z17MnGgQIDQIEBoECA0ChAYBQoMAoUGA92j/QD09PeV+9+7dcl+1alXT9758+XK5Dw0Nlfv4+HjT917MnGgQIDQIEBoECA0ChAYBQoMAoUGAf9u0ADZv3lzuL168KPeJiYlyf/z4cbmPjY013G7fvl1e++uXX5dmONEgQGgQIDQIEBoECA0ChAYBQoMA30ebJytWrGi43blzp7x25cqV5X727Nlyf/ToUbmT50SDAKFBgNAgQGgQIDQIEBoECA0CvEebJ1evXm24HTx4sLz2yZMn5T48PNzMI7GAnGgQIDQIEBoECA0ChAYBQoMAH+83sHr16nL//Plzua9Zs6bpe8/0NZrp6emmfzYLw4kGAUKDAKFBgNAgQGgQIDQIEBoELNl/23Ty5MlyP378eLm/fPmy3AcGBn73kf7r1atX5X7gwIFyn5ycLPdt27Y13C5evFhee/78+XLn/3OiQYDQIEBoECA0CBAaBAgNAoQGAYv2PVpHR0e5j46OlntnZ+dcPs6cmunZJyYmyv3QoUMNtx8/fpTXzuZ7dkuZEw0ChAYBQoMAoUGA0CBAaBAgNAhYtH/XcePGjeW+du3a0JPMve7u7nn72W1t9a/EuXPnyv3Lly9N33t8fLzcP336VO7v3r1r+t7zzYkGAUKDAKFBgNAgQGgQIDQIEBoELNrvo81kpvdsy5YtK/d9+/aV+/79+xtu7e3t5bWnT58u94X08ePHcn/+/Hm59/T0NNxm+nuUr1+/LvcrV66U+8jISLnPJycaBAgNAoQGAUKDAKFBgNAgYNF+TWYmHz58mNX179+/L/ehoaGGW2tra3ntfP9Jt76+vobb8uXLy2u7urrK/cKFC+Ve/Tm73t7e8trdu3eX+8GDB8vdx/uwyAkNAoQGAUKDAKFBgNAgQGgQsGS/JgNJTjQIEBoECA0ChAYBQoMAoUGA0CBAaBAgNAgQGgQIDQKEBgFCgwChQYDQIEBoECA0CBAaBAgNAoQGAUKDAKFBgNAgQGgQIDQIEBoECA0ChAYBQoMAoUGA0CBAaBAgNAgQGgQIDQKEBgFCgwChQcC/AXA/6ePSIzy5AAAAAElFTkSuQmCC\" y=\"-6.64\"/>\n   </g>\n   <g id=\"matplotlib.axis_1\">\n    <g id=\"xtick_1\">\n     <g id=\"line2d_1\">\n      <defs>\n       <path d=\"M 0 0 \nL 0 3.5 \n\" id=\"mef98b6c40b\" style=\"stroke:#000000;stroke-width:0.8;\"/>\n      </defs>\n      <g>\n       <use style=\"stroke:#000000;stroke-width:0.8;\" x=\"30.807857\" xlink:href=\"#mef98b6c40b\" y=\"224.64\"/>\n      </g>\n     </g>\n     <g id=\"text_1\">\n      <!-- 0 -->\n      <g transform=\"translate(27.626607 239.238437)scale(0.1 -0.1)\">\n       <defs>\n        <path d=\"M 2034 4250 \nQ 1547 4250 1301 3770 \nQ 1056 3291 1056 2328 \nQ 1056 1369 1301 889 \nQ 1547 409 2034 409 \nQ 2525 409 2770 889 \nQ 3016 1369 3016 2328 \nQ 3016 3291 2770 3770 \nQ 2525 4250 2034 4250 \nz\nM 2034 4750 \nQ 2819 4750 3233 4129 \nQ 3647 3509 3647 2328 \nQ 3647 1150 3233 529 \nQ 2819 -91 2034 -91 \nQ 1250 -91 836 529 \nQ 422 1150 422 2328 \nQ 422 3509 836 4129 \nQ 1250 4750 2034 4750 \nz\n\" id=\"DejaVuSans-30\" transform=\"scale(0.015625)\"/>\n       </defs>\n       <use xlink:href=\"#DejaVuSans-30\"/>\n      </g>\n     </g>\n    </g>\n    <g id=\"xtick_2\">\n     <g id=\"line2d_2\">\n      <g>\n       <use style=\"stroke:#000000;stroke-width:0.8;\" x=\"69.636429\" xlink:href=\"#mef98b6c40b\" y=\"224.64\"/>\n      </g>\n     </g>\n     <g id=\"text_2\">\n      <!-- 5 -->\n      <g transform=\"translate(66.455179 239.238437)scale(0.1 -0.1)\">\n       <defs>\n        <path d=\"M 691 4666 \nL 3169 4666 \nL 3169 4134 \nL 1269 4134 \nL 1269 2991 \nQ 1406 3038 1543 3061 \nQ 1681 3084 1819 3084 \nQ 2600 3084 3056 2656 \nQ 3513 2228 3513 1497 \nQ 3513 744 3044 326 \nQ 2575 -91 1722 -91 \nQ 1428 -91 1123 -41 \nQ 819 9 494 109 \nL 494 744 \nQ 775 591 1075 516 \nQ 1375 441 1709 441 \nQ 2250 441 2565 725 \nQ 2881 1009 2881 1497 \nQ 2881 1984 2565 2268 \nQ 2250 2553 1709 2553 \nQ 1456 2553 1204 2497 \nQ 953 2441 691 2322 \nL 691 4666 \nz\n\" id=\"DejaVuSans-35\" transform=\"scale(0.015625)\"/>\n       </defs>\n       <use xlink:href=\"#DejaVuSans-35\"/>\n      </g>\n     </g>\n    </g>\n    <g id=\"xtick_3\">\n     <g id=\"line2d_3\">\n      <g>\n       <use style=\"stroke:#000000;stroke-width:0.8;\" x=\"108.465\" xlink:href=\"#mef98b6c40b\" y=\"224.64\"/>\n      </g>\n     </g>\n     <g id=\"text_3\">\n      <!-- 10 -->\n      <g transform=\"translate(102.1025 239.238437)scale(0.1 -0.1)\">\n       <defs>\n        <path d=\"M 794 531 \nL 1825 531 \nL 1825 4091 \nL 703 3866 \nL 703 4441 \nL 1819 4666 \nL 2450 4666 \nL 2450 531 \nL 3481 531 \nL 3481 0 \nL 794 0 \nL 794 531 \nz\n\" id=\"DejaVuSans-31\" transform=\"scale(0.015625)\"/>\n       </defs>\n       <use xlink:href=\"#DejaVuSans-31\"/>\n       <use x=\"63.623047\" xlink:href=\"#DejaVuSans-30\"/>\n      </g>\n     </g>\n    </g>\n    <g id=\"xtick_4\">\n     <g id=\"line2d_4\">\n      <g>\n       <use style=\"stroke:#000000;stroke-width:0.8;\" x=\"147.293571\" xlink:href=\"#mef98b6c40b\" y=\"224.64\"/>\n      </g>\n     </g>\n     <g id=\"text_4\">\n      <!-- 15 -->\n      <g transform=\"translate(140.931071 239.238437)scale(0.1 -0.1)\">\n       <use xlink:href=\"#DejaVuSans-31\"/>\n       <use x=\"63.623047\" xlink:href=\"#DejaVuSans-35\"/>\n      </g>\n     </g>\n    </g>\n    <g id=\"xtick_5\">\n     <g id=\"line2d_5\">\n      <g>\n       <use style=\"stroke:#000000;stroke-width:0.8;\" x=\"186.122143\" xlink:href=\"#mef98b6c40b\" y=\"224.64\"/>\n      </g>\n     </g>\n     <g id=\"text_5\">\n      <!-- 20 -->\n      <g transform=\"translate(179.759643 239.238437)scale(0.1 -0.1)\">\n       <defs>\n        <path d=\"M 1228 531 \nL 3431 531 \nL 3431 0 \nL 469 0 \nL 469 531 \nQ 828 903 1448 1529 \nQ 2069 2156 2228 2338 \nQ 2531 2678 2651 2914 \nQ 2772 3150 2772 3378 \nQ 2772 3750 2511 3984 \nQ 2250 4219 1831 4219 \nQ 1534 4219 1204 4116 \nQ 875 4013 500 3803 \nL 500 4441 \nQ 881 4594 1212 4672 \nQ 1544 4750 1819 4750 \nQ 2544 4750 2975 4387 \nQ 3406 4025 3406 3419 \nQ 3406 3131 3298 2873 \nQ 3191 2616 2906 2266 \nQ 2828 2175 2409 1742 \nQ 1991 1309 1228 531 \nz\n\" id=\"DejaVuSans-32\" transform=\"scale(0.015625)\"/>\n       </defs>\n       <use xlink:href=\"#DejaVuSans-32\"/>\n       <use x=\"63.623047\" xlink:href=\"#DejaVuSans-30\"/>\n      </g>\n     </g>\n    </g>\n    <g id=\"xtick_6\">\n     <g id=\"line2d_6\">\n      <g>\n       <use style=\"stroke:#000000;stroke-width:0.8;\" x=\"224.950714\" xlink:href=\"#mef98b6c40b\" y=\"224.64\"/>\n      </g>\n     </g>\n     <g id=\"text_6\">\n      <!-- 25 -->\n      <g transform=\"translate(218.588214 239.238437)scale(0.1 -0.1)\">\n       <use xlink:href=\"#DejaVuSans-32\"/>\n       <use x=\"63.623047\" xlink:href=\"#DejaVuSans-35\"/>\n      </g>\n     </g>\n    </g>\n   </g>\n   <g id=\"matplotlib.axis_2\">\n    <g id=\"ytick_1\">\n     <g id=\"line2d_7\">\n      <defs>\n       <path d=\"M 0 0 \nL -3.5 0 \n\" id=\"m7f9b304c0d\" style=\"stroke:#000000;stroke-width:0.8;\"/>\n      </defs>\n      <g>\n       <use style=\"stroke:#000000;stroke-width:0.8;\" x=\"26.925\" xlink:href=\"#m7f9b304c0d\" y=\"11.082857\"/>\n      </g>\n     </g>\n     <g id=\"text_7\">\n      <!-- 0 -->\n      <g transform=\"translate(13.5625 14.882076)scale(0.1 -0.1)\">\n       <use xlink:href=\"#DejaVuSans-30\"/>\n      </g>\n     </g>\n    </g>\n    <g id=\"ytick_2\">\n     <g id=\"line2d_8\">\n      <g>\n       <use style=\"stroke:#000000;stroke-width:0.8;\" x=\"26.925\" xlink:href=\"#m7f9b304c0d\" y=\"49.911429\"/>\n      </g>\n     </g>\n     <g id=\"text_8\">\n      <!-- 5 -->\n      <g transform=\"translate(13.5625 53.710647)scale(0.1 -0.1)\">\n       <use xlink:href=\"#DejaVuSans-35\"/>\n      </g>\n     </g>\n    </g>\n    <g id=\"ytick_3\">\n     <g id=\"line2d_9\">\n      <g>\n       <use style=\"stroke:#000000;stroke-width:0.8;\" x=\"26.925\" xlink:href=\"#m7f9b304c0d\" y=\"88.74\"/>\n      </g>\n     </g>\n     <g id=\"text_9\">\n      <!-- 10 -->\n      <g transform=\"translate(7.2 92.539219)scale(0.1 -0.1)\">\n       <use xlink:href=\"#DejaVuSans-31\"/>\n       <use x=\"63.623047\" xlink:href=\"#DejaVuSans-30\"/>\n      </g>\n     </g>\n    </g>\n    <g id=\"ytick_4\">\n     <g id=\"line2d_10\">\n      <g>\n       <use style=\"stroke:#000000;stroke-width:0.8;\" x=\"26.925\" xlink:href=\"#m7f9b304c0d\" y=\"127.568571\"/>\n      </g>\n     </g>\n     <g id=\"text_10\">\n      <!-- 15 -->\n      <g transform=\"translate(7.2 131.36779)scale(0.1 -0.1)\">\n       <use xlink:href=\"#DejaVuSans-31\"/>\n       <use x=\"63.623047\" xlink:href=\"#DejaVuSans-35\"/>\n      </g>\n     </g>\n    </g>\n    <g id=\"ytick_5\">\n     <g id=\"line2d_11\">\n      <g>\n       <use style=\"stroke:#000000;stroke-width:0.8;\" x=\"26.925\" xlink:href=\"#m7f9b304c0d\" y=\"166.397143\"/>\n      </g>\n     </g>\n     <g id=\"text_11\">\n      <!-- 20 -->\n      <g transform=\"translate(7.2 170.196362)scale(0.1 -0.1)\">\n       <use xlink:href=\"#DejaVuSans-32\"/>\n       <use x=\"63.623047\" xlink:href=\"#DejaVuSans-30\"/>\n      </g>\n     </g>\n    </g>\n    <g id=\"ytick_6\">\n     <g id=\"line2d_12\">\n      <g>\n       <use style=\"stroke:#000000;stroke-width:0.8;\" x=\"26.925\" xlink:href=\"#m7f9b304c0d\" y=\"205.225714\"/>\n      </g>\n     </g>\n     <g id=\"text_12\">\n      <!-- 25 -->\n      <g transform=\"translate(7.2 209.024933)scale(0.1 -0.1)\">\n       <use xlink:href=\"#DejaVuSans-32\"/>\n       <use x=\"63.623047\" xlink:href=\"#DejaVuSans-35\"/>\n      </g>\n     </g>\n    </g>\n   </g>\n   <g id=\"patch_3\">\n    <path d=\"M 26.925 224.64 \nL 26.925 7.2 \n\" style=\"fill:none;stroke:#000000;stroke-linecap:square;stroke-linejoin:miter;stroke-width:0.8;\"/>\n   </g>\n   <g id=\"patch_4\">\n    <path d=\"M 244.365 224.64 \nL 244.365 7.2 \n\" style=\"fill:none;stroke:#000000;stroke-linecap:square;stroke-linejoin:miter;stroke-width:0.8;\"/>\n   </g>\n   <g id=\"patch_5\">\n    <path d=\"M 26.925 224.64 \nL 244.365 224.64 \n\" style=\"fill:none;stroke:#000000;stroke-linecap:square;stroke-linejoin:miter;stroke-width:0.8;\"/>\n   </g>\n   <g id=\"patch_6\">\n    <path d=\"M 26.925 7.2 \nL 244.365 7.2 \n\" style=\"fill:none;stroke:#000000;stroke-linecap:square;stroke-linejoin:miter;stroke-width:0.8;\"/>\n   </g>\n  </g>\n </g>\n <defs>\n  <clipPath id=\"pa26d7e1368\">\n   <rect height=\"217.44\" width=\"217.44\" x=\"26.925\" y=\"7.2\"/>\n  </clipPath>\n </defs>\n</svg>\n",
      "image/png": "[encoded data removed]"
     },
     "metadata": {
      "needs_background": "light"
     }
    }
   ],
   "source": [
    "(X_train, Y_train), (_, _) = keras.datasets.mnist.load_data()\n",
    "X_train = ((X_train.reshape(X_train.shape+(1,)) - 127.5) / 127.5).astype('float64')\n",
    "plt.imshow(X_train[0], cmap='gray')"
   ]
  },
  {
   "source": [
    "## 3. 准备Generator"
   ],
   "cell_type": "markdown",
   "metadata": {}
  },
  {
   "cell_type": "code",
   "execution_count": 3,
   "metadata": {},
   "outputs": [
    {
     "output_type": "stream",
     "name": "stdout",
     "text": [
      "Model: \"model\"\n__________________________________________________________________________________________________\nLayer (type)                    Output Shape         Param #     Connected to                     \n==================================================================================================\ninput_2 (InputLayer)            [(None, 1)]          0                                            \n__________________________________________________________________________________________________\ninput_1 (InputLayer)            [(None, 100)]        0                                            \n__________________________________________________________________________________________________\nembedding (Embedding)           (None, 1, 50)        500         input_2[0][0]                    \n__________________________________________________________________________________________________\ndense (Dense)                   (None, 3136)         316736      input_1[0][0]                    \n__________________________________________________________________________________________________\ndense_1 (Dense)                 (None, 1, 49)        2499        embedding[0][0]                  \n__________________________________________________________________________________________________\nleaky_re_lu (LeakyReLU)         (None, 3136)         0           dense[0][0]                      \n__________________________________________________________________________________________________\nleaky_re_lu_1 (LeakyReLU)       (None, 1, 49)        0           dense_1[0][0]                    \n__________________________________________________________________________________________________\nreshape (Reshape)               (None, 7, 7, 64)     0           leaky_re_lu[0][0]                \n__________________________________________________________________________________________________\nreshape_1 (Reshape)             (None, 7, 7, 1)      0           leaky_re_lu_1[0][0]              \n__________________________________________________________________________________________________\nconcatenate (Concatenate)       (None, 7, 7, 65)     0           reshape[0][0]                    \n                                                                 reshape_1[0][0]                  \n__________________________________________________________________________________________________\nconv2d_transpose (Conv2DTranspo (None, 14, 14, 64)   66624       concatenate[0][0]                \n__________________________________________________________________________________________________\nleaky_re_lu_2 (LeakyReLU)       (None, 14, 14, 64)   0           conv2d_transpose[0][0]           \n__________________________________________________________________________________________________\nconv2d_transpose_1 (Conv2DTrans (None, 28, 28, 64)   65600       leaky_re_lu_2[0][0]              \n__________________________________________________________________________________________________\nleaky_re_lu_3 (LeakyReLU)       (None, 28, 28, 64)   0           conv2d_transpose_1[0][0]         \n__________________________________________________________________________________________________\nconv2d (Conv2D)                 (None, 28, 28, 1)    3137        leaky_re_lu_3[0][0]              \n==================================================================================================\nTotal params: 455,096\nTrainable params: 455,096\nNon-trainable params: 0\n__________________________________________________________________________________________________\n"
     ]
    }
   ],
   "source": [
    "latent_dim = 100    # 潜在空间\n",
    "width = 28\n",
    "height = 28\n",
    "channels = 1\n",
    "\n",
    "# generator的输入为种子 和 标签\n",
    "Generator_input = keras.Input(shape=(latent_dim,))\n",
    "Label_input = keras.Input(shape=(1,))\n",
    "\n",
    "x = layers.Dense(7*7*64)(Generator_input)\n",
    "x = layers.LeakyReLU()(x)\n",
    "\n",
    "x = layers.Reshape((7, 7, 64))(x)\n",
    "\n",
    "y = layers.Embedding(10, 50)(Label_input)\n",
    "y = layers.Dense(49)(y)\n",
    "y = layers.LeakyReLU(alpha=0.2)(y)\n",
    "\n",
    "y = layers.Reshape((7, 7, 1))(y)\n",
    "\n",
    "z = layers.Concatenate()([x, y])\n",
    "# outputs 7*7*65\n",
    "\n",
    "z = layers.Conv2DTranspose(64, (4, 4), strides=(2, 2), padding='same')(z)\n",
    "z = layers.LeakyReLU(alpha=0.2)(z)\n",
    "#outputs 14×14×64\n",
    "\n",
    "z = layers.Conv2DTranspose(64, (4, 4), strides=(2, 2), padding='same')(z)\n",
    "z = layers.LeakyReLU(alpha=0.2)(z)\n",
    "\n",
    "\n",
    "z = layers.Conv2D(1, (7, 7), padding='same', activation='tanh')([Generator_input, Label_input], z)\n",
    "generator.summary()\n"
   ]
  },
  {
   "source": [
    "## 4. Discriminator "
   ],
   "cell_type": "markdown",
   "metadata": {}
  },
  {
   "cell_type": "code",
   "execution_count": 4,
   "metadata": {},
   "outputs": [
    {
     "output_type": "stream",
     "name": "stdout",
     "text": [
      "Model: \"model_1\"\n__________________________________________________________________________________________________\nLayer (type)                    Output Shape         Param #     Connected to                     \n==================================================================================================\ninput_4 (InputLayer)            [(None, 1)]          0                                            \n__________________________________________________________________________________________________\nembedding_1 (Embedding)         (None, 1, 50)        500         input_4[0][0]                    \n__________________________________________________________________________________________________\ndense_2 (Dense)                 (None, 1, 784)       39984       embedding_1[0][0]                \n__________________________________________________________________________________________________\ninput_3 (InputLayer)            [(None, 28, 28, 1)]  0                                            \n__________________________________________________________________________________________________\nreshape_2 (Reshape)             (None, 28, 28, 1)    0           dense_2[0][0]                    \n__________________________________________________________________________________________________\nconcatenate_1 (Concatenate)     (None, 28, 28, 2)    0           input_3[0][0]                    \n                                                                 reshape_2[0][0]                  \n__________________________________________________________________________________________________\nconv2d_1 (Conv2D)               (None, 26, 26, 64)   1216        concatenate_1[0][0]              \n__________________________________________________________________________________________________\nleaky_re_lu_4 (LeakyReLU)       (None, 26, 26, 64)   0           conv2d_1[0][0]                   \n__________________________________________________________________________________________________\nconv2d_2 (Conv2D)               (None, 12, 12, 128)  131200      leaky_re_lu_4[0][0]              \n__________________________________________________________________________________________________\nleaky_re_lu_5 (LeakyReLU)       (None, 12, 12, 128)  0           conv2d_2[0][0]                   \n__________________________________________________________________________________________________\nconv2d_3 (Conv2D)               (None, 5, 5, 128)    262272      leaky_re_lu_5[0][0]              \n__________________________________________________________________________________________________\nleaky_re_lu_6 (LeakyReLU)       (None, 5, 5, 128)    0           conv2d_3[0][0]                   \n__________________________________________________________________________________________________\nflatten (Flatten)               (None, 3200)         0           leaky_re_lu_6[0][0]              \n__________________________________________________________________________________________________\ndropout (Dropout)               (None, 3200)         0           flatten[0][0]                    \n__________________________________________________________________________________________________\ndense_3 (Dense)                 (None, 1)            3201        dropout[0][0]                    \n==================================================================================================\nTotal params: 438,373\nTrainable params: 438,373\nNon-trainable params: 0\n__________________________________________________________________________________________________\n"
     ]
    }
   ],
   "source": [
    "discriminator_input = keras.Input(shape=(28, 28, 1,))\n",
    "label_input = keras.Input(shape=(1,))\n",
    "\n",
    "l = layers.Embedding(10, 50)(label_input)\n",
    "l = layers.Dense(28*28)(l)\n",
    "l = layers.Reshape((28, 28, 1))(l)\n",
    "\n",
    "x = layers.Concatenate()([discriminator_input, l])\n",
    "\n",
    "x = layers.Conv2D(64, (3, 3))(x)\n",
    "x = layers.LeakyReLU(alpha=0.2)(x)\n",
    "\n",
    "x = layers.Conv2D(128, (4, 4), strides=(2, 2))(x)\n",
    "x = layers.LeakyReLU(alpha=0.2)(x)\n",
    "\n",
    "x = layers.Conv2D(128, (4, 4), strides=(2, 2))(x)\n",
    "x = layers.LeakyReLU(alpha=0.2)(x)\n",
    "\n",
    "x = layers.Flatten()(x)\n",
    "\n",
    "x = layers.Dropout(0.4)(x)\n",
    "x = layers.Dense(1, activation='sigmoid')(x)\n",
    "\n",
    "discriminator = keras.models.Model([discriminator_input, label_input], x)\n",
    "opt = optimizers.Adam(\n",
    "    lr = 0.0004,\n",
    "    decay = 1e-8,\n",
    "    clipvalue = 1.0,\n",
    "    beta_1 = 0.5\n",
    ")\n",
    "discriminator.compile(\n",
    "    loss = 'binary_crossentropy',\n",
    "    optimizer = opt\n",
    ")\n",
    "discriminator.summary()"
   ]
  },
  {
   "source": [
    "## 5. 搭建CGAN"
   ],
   "cell_type": "markdown",
   "metadata": {}
  },
  {
   "cell_type": "code",
   "execution_count": 5,
   "metadata": {},
   "outputs": [
    {
     "output_type": "stream",
     "name": "stdout",
     "text": [
      "Model: \"model_2\"\n__________________________________________________________________________________________________\nLayer (type)                    Output Shape         Param #     Connected to                     \n==================================================================================================\ninput_5 (InputLayer)            [(None, 100)]        0                                            \n__________________________________________________________________________________________________\ninput_6 (InputLayer)            [(None, 1)]          0                                            \n__________________________________________________________________________________________________\nmodel (Functional)              (None, 28, 28, 1)    455096      input_5[0][0]                    \n                                                                 input_6[0][0]                    \n__________________________________________________________________________________________________\nmodel_1 (Functional)            (None, 1)            438373      model[0][0]                      \n                                                                 input_6[0][0]                    \n==================================================================================================\nTotal params: 893,469\nTrainable params: 455,096\nNon-trainable params: 438,373\n__________________________________________________________________________________________________\n"
     ]
    }
   ],
   "source": [
    "\n",
    "gan_input = keras.Input(shape=(latent_dim,))\n",
    "gan_label = keras.Input(shape=(1,))\n",
    "\n",
    "gan_output = discriminator([generator([gan_input, gan_label]), gan_label])\n",
    "\n",
    "gan = keras.models.Model([gan_input, gan_label], gan_output)\n",
    "gan.get_layer('model_1').trainable = False\n",
    "gan.summary()\n",
    "opt_gan = optimizers.Adam(\n",
    "    lr = 0.0002,\n",
    "    beta_1 = 0.5,\n",
    "    clipvalue = 1.0,\n",
    "    decay = 1e-8\n",
    ")\n",
    "gan.compile(\n",
    "    optimizer = opt_gan,\n",
    "    loss = 'binary_crossentropy'\n",
    ")"
   ]
  },
  {
   "cell_type": "code",
   "execution_count": 6,
   "metadata": {},
   "outputs": [
    {
     "output_type": "stream",
     "name": "stdout",
     "text": [
      "Model: \"model_1\"\n__________________________________________________________________________________________________\nLayer (type)                    Output Shape         Param #     Connected to                     \n==================================================================================================\ninput_4 (InputLayer)            [(None, 1)]          0                                            \n__________________________________________________________________________________________________\nembedding_1 (Embedding)         (None, 1, 50)        500         input_4[0][0]                    \n__________________________________________________________________________________________________\ndense_2 (Dense)                 (None, 1, 784)       39984       embedding_1[0][0]                \n__________________________________________________________________________________________________\ninput_3 (InputLayer)            [(None, 28, 28, 1)]  0                                            \n__________________________________________________________________________________________________\nreshape_2 (Reshape)             (None, 28, 28, 1)    0           dense_2[0][0]                    \n__________________________________________________________________________________________________\nconcatenate_1 (Concatenate)     (None, 28, 28, 2)    0           input_3[0][0]                    \n                                                                 reshape_2[0][0]                  \n__________________________________________________________________________________________________\nconv2d_1 (Conv2D)               (None, 26, 26, 64)   1216        concatenate_1[0][0]              \n__________________________________________________________________________________________________\nleaky_re_lu_4 (LeakyReLU)       (None, 26, 26, 64)   0           conv2d_1[0][0]                   \n__________________________________________________________________________________________________\nconv2d_2 (Conv2D)               (None, 12, 12, 128)  131200      leaky_re_lu_4[0][0]              \n__________________________________________________________________________________________________\nleaky_re_lu_5 (LeakyReLU)       (None, 12, 12, 128)  0           conv2d_2[0][0]                   \n__________________________________________________________________________________________________\nconv2d_3 (Conv2D)               (None, 5, 5, 128)    262272      leaky_re_lu_5[0][0]              \n__________________________________________________________________________________________________\nleaky_re_lu_6 (LeakyReLU)       (None, 5, 5, 128)    0           conv2d_3[0][0]                   \n__________________________________________________________________________________________________\nflatten (Flatten)               (None, 3200)         0           leaky_re_lu_6[0][0]              \n__________________________________________________________________________________________________\ndropout (Dropout)               (None, 3200)         0           flatten[0][0]                    \n__________________________________________________________________________________________________\ndense_3 (Dense)                 (None, 1)            3201        dropout[0][0]                    \n==================================================================================================\nTotal params: 438,373\nTrainable params: 0\nNon-trainable params: 438,373\n__________________________________________________________________________________________________\n"
     ]
    }
   ],
   "source": [
    "discriminator.summary()"
   ]
  },
  {
   "source": [
    "## 6. 训练CGAN"
   ],
   "cell_type": "markdown",
   "metadata": {}
  },
  {
   "cell_type": "code",
   "execution_count": 8,
   "metadata": {},
   "outputs": [
    {
     "output_type": "stream",
     "name": "stdout",
     "text": [
      "generator at loss: 1.3992018699645996\n",
      "discriminator at loss: 0.5379870533943176\n",
      "generator at loss: 4.564394474029541\n",
      "discriminator at loss: 0.2086048126220703\n",
      "generator at loss: 3.8909831047058105\n",
      "discriminator at loss: 0.19809186458587646\n",
      "generator at loss: 3.396646022796631\n",
      "discriminator at loss: 0.3344482481479645\n",
      "generator at loss: 1.3252134323120117\n",
      "discriminator at loss: 0.4939238131046295\n",
      "generator at loss: 3.06857967376709\n",
      "discriminator at loss: 0.29757529497146606\n",
      "generator at loss: 4.336404800415039\n",
      "discriminator at loss: 0.2723967432975769\n",
      "generator at loss: 3.224268913269043\n",
      "discriminator at loss: 0.2629949748516083\n",
      "generator at loss: 3.373918056488037\n",
      "discriminator at loss: 0.2663515508174896\n",
      "generator at loss: 2.4209842681884766\n",
      "discriminator at loss: 0.2834509313106537\n",
      "generator at loss: 4.233179569244385\n",
      "discriminator at loss: 0.38202449679374695\n",
      "generator at loss: 2.2952303886413574\n",
      "discriminator at loss: 0.27787086367607117\n",
      "generator at loss: 3.1013519763946533\n",
      "discriminator at loss: 0.20048627257347107\n",
      "generator at loss: 2.681177854537964\n",
      "discriminator at loss: 0.2811967432498932\n",
      "generator at loss: 2.4866912364959717\n",
      "discriminator at loss: 0.31710928678512573\n",
      "generator at loss: 3.4179091453552246\n",
      "discriminator at loss: 0.3299938142299652\n",
      "generator at loss: 3.903815984725952\n",
      "discriminator at loss: 0.31857073307037354\n",
      "generator at loss: 2.6358628273010254\n",
      "discriminator at loss: 0.26875627040863037\n",
      "generator at loss: 4.854630470275879\n",
      "discriminator at loss: 0.2526873052120209\n",
      "generator at loss: 3.3091542720794678\n",
      "discriminator at loss: 0.27201133966445923\n",
      "generator at loss: 1.4513236284255981\n",
      "discriminator at loss: 0.30345600843429565\n",
      "generator at loss: 3.798089027404785\n",
      "discriminator at loss: 0.29545387625694275\n",
      "generator at loss: 3.18027400970459\n",
      "discriminator at loss: 0.21143537759780884\n",
      "generator at loss: 2.077047824859619\n",
      "discriminator at loss: 0.3361084759235382\n",
      "generator at loss: 2.0098445415496826\n",
      "discriminator at loss: 0.28098055720329285\n",
      "generator at loss: 4.8795318603515625\n",
      "discriminator at loss: 0.3132702708244324\n",
      "generator at loss: 3.062384605407715\n",
      "discriminator at loss: 0.3196367025375366\n",
      "generator at loss: 2.441934823989868\n",
      "discriminator at loss: 0.31675100326538086\n",
      "generator at loss: 2.7484607696533203\n",
      "discriminator at loss: 0.33717837929725647\n",
      "generator at loss: 1.149036169052124\n",
      "discriminator at loss: 0.506198525428772\n",
      "generator at loss: 2.134321689605713\n",
      "discriminator at loss: 0.3112237751483917\n",
      "generator at loss: 1.194389820098877\n",
      "discriminator at loss: 0.33963191509246826\n",
      "generator at loss: 2.327643632888794\n",
      "discriminator at loss: 0.38663697242736816\n",
      "generator at loss: 3.301992416381836\n",
      "discriminator at loss: 0.3552582263946533\n",
      "generator at loss: 3.5506088733673096\n",
      "discriminator at loss: 0.22514398396015167\n",
      "generator at loss: 2.651357650756836\n",
      "discriminator at loss: 0.25861620903015137\n",
      "generator at loss: 3.1012027263641357\n",
      "discriminator at loss: 0.21881650388240814\n",
      "generator at loss: 2.4652252197265625\n",
      "discriminator at loss: 0.4080491065979004\n",
      "generator at loss: 2.6028621196746826\n",
      "discriminator at loss: 0.31266021728515625\n",
      "generator at loss: 4.418002605438232\n",
      "discriminator at loss: 0.21316684782505035\n",
      "generator at loss: 3.150657892227173\n",
      "discriminator at loss: 0.40521401166915894\n",
      "generator at loss: 1.9614238739013672\n",
      "discriminator at loss: 0.3455284535884857\n",
      "generator at loss: 1.6066713333129883\n",
      "discriminator at loss: 0.33663409948349\n",
      "generator at loss: 2.3762729167938232\n",
      "discriminator at loss: 0.2608712613582611\n",
      "generator at loss: 2.677581310272217\n",
      "discriminator at loss: 0.3271382749080658\n",
      "generator at loss: 3.5232973098754883\n",
      "discriminator at loss: 0.32934367656707764\n",
      "generator at loss: 1.4219456911087036\n",
      "discriminator at loss: 0.6076903939247131\n",
      "generator at loss: 2.606569766998291\n",
      "discriminator at loss: 0.25598129630088806\n",
      "generator at loss: 2.6094813346862793\n",
      "discriminator at loss: 0.3047780990600586\n",
      "generator at loss: 3.981022596359253\n",
      "discriminator at loss: 0.31249910593032837\n",
      "generator at loss: 1.5413577556610107\n",
      "discriminator at loss: 0.3972924053668976\n",
      "generator at loss: 2.2545015811920166\n",
      "discriminator at loss: 0.304843544960022\n",
      "generator at loss: 2.9556431770324707\n",
      "discriminator at loss: 0.2655661702156067\n",
      "generator at loss: 2.108485221862793\n",
      "discriminator at loss: 0.3304774761199951\n",
      "generator at loss: 2.5863771438598633\n",
      "discriminator at loss: 0.23666757345199585\n",
      "generator at loss: 2.2402515411376953\n",
      "discriminator at loss: 0.3679423928260803\n",
      "generator at loss: 2.9144294261932373\n",
      "discriminator at loss: 0.28619813919067383\n",
      "generator at loss: 3.4131157398223877\n",
      "discriminator at loss: 0.330962210893631\n",
      "generator at loss: 2.282229423522949\n",
      "discriminator at loss: 0.2601214051246643\n",
      "generator at loss: 3.0268263816833496\n",
      "discriminator at loss: 0.27106767892837524\n",
      "generator at loss: 1.738196849822998\n",
      "discriminator at loss: 0.29515010118484497\n",
      "generator at loss: 2.9339613914489746\n",
      "discriminator at loss: 0.3348531126976013\n",
      "generator at loss: 3.183821678161621\n",
      "discriminator at loss: 0.29749584197998047\n",
      "generator at loss: 3.052565097808838\n",
      "discriminator at loss: 0.25205591320991516\n",
      "generator at loss: 4.1618475914001465\n",
      "discriminator at loss: 0.30316758155822754\n",
      "generator at loss: 3.7842419147491455\n",
      "discriminator at loss: 0.242578387260437\n",
      "generator at loss: 2.010669469833374\n",
      "discriminator at loss: 0.47146159410476685\n",
      "generator at loss: 2.9033689498901367\n",
      "discriminator at loss: 0.2612389922142029\n",
      "generator at loss: 2.8060007095336914\n",
      "discriminator at loss: 0.24493953585624695\n",
      "generator at loss: 1.1127883195877075\n",
      "discriminator at loss: 0.4019376337528229\n",
      "generator at loss: 2.800089120864868\n",
      "discriminator at loss: 0.22754572331905365\n",
      "generator at loss: 3.7849912643432617\n",
      "discriminator at loss: 0.37140294909477234\n",
      "generator at loss: 3.0617127418518066\n",
      "discriminator at loss: 0.4458332359790802\n",
      "generator at loss: 3.2652993202209473\n",
      "discriminator at loss: 0.24307474493980408\n",
      "generator at loss: 2.7622199058532715\n",
      "discriminator at loss: 0.22262205183506012\n",
      "generator at loss: 2.947653293609619\n",
      "discriminator at loss: 0.47758233547210693\n",
      "generator at loss: 1.984559178352356\n",
      "discriminator at loss: 0.3057485520839691\n",
      "generator at loss: 2.550474166870117\n",
      "discriminator at loss: 0.28825217485427856\n",
      "generator at loss: 3.0270533561706543\n",
      "discriminator at loss: 0.2229190319776535\n",
      "generator at loss: 2.1119165420532227\n",
      "discriminator at loss: 0.2583311200141907\n",
      "generator at loss: 3.9211878776550293\n",
      "discriminator at loss: 0.2311532199382782\n",
      "generator at loss: 3.500798463821411\n",
      "discriminator at loss: 0.38396841287612915\n",
      "generator at loss: 4.484828472137451\n",
      "discriminator at loss: 0.25103461742401123\n",
      "generator at loss: 2.064513683319092\n",
      "discriminator at loss: 0.28645384311676025\n",
      "generator at loss: 2.5122933387756348\n",
      "discriminator at loss: 0.28696078062057495\n",
      "generator at loss: 1.3152250051498413\n",
      "discriminator at loss: 0.41832399368286133\n",
      "generator at loss: 1.8145945072174072\n",
      "discriminator at loss: 0.3141899108886719\n",
      "generator at loss: 2.5025978088378906\n",
      "discriminator at loss: 0.18374603986740112\n",
      "generator at loss: 5.3936381340026855\n",
      "discriminator at loss: 0.19472873210906982\n",
      "generator at loss: 1.9766714572906494\n",
      "discriminator at loss: 0.29880064725875854\n",
      "generator at loss: 2.888890504837036\n",
      "discriminator at loss: 0.21883541345596313\n",
      "generator at loss: 1.7136256694793701\n",
      "discriminator at loss: 0.31703299283981323\n"
     ]
    },
    {
     "output_type": "error",
     "ename": "KeyboardInterrupt",
     "evalue": "",
     "traceback": [
      "\u001b[0;31m---------------------------------------------------------------------------\u001b[0m",
      "\u001b[0;31mKeyboardInterrupt\u001b[0m                         Traceback (most recent call last)",
      "\u001b[0;32m<ipython-input-8-a553bd1d5c63>\u001b[0m in \u001b[0;36m<module>\u001b[0;34m\u001b[0m\n\u001b[1;32m      8\u001b[0m     \u001b[0mrandom_latent_vector\u001b[0m \u001b[0;34m=\u001b[0m \u001b[0mnp\u001b[0m\u001b[0;34m.\u001b[0m\u001b[0mrandom\u001b[0m\u001b[0;34m.\u001b[0m\u001b[0mnormal\u001b[0m\u001b[0;34m(\u001b[0m\u001b[0msize\u001b[0m\u001b[0;34m=\u001b[0m\u001b[0;34m(\u001b[0m\u001b[0mbatch_size\u001b[0m\u001b[0;34m,\u001b[0m \u001b[0mlatent_dim\u001b[0m\u001b[0;34m)\u001b[0m\u001b[0;34m)\u001b[0m\u001b[0;34m\u001b[0m\u001b[0;34m\u001b[0m\u001b[0m\n\u001b[1;32m      9\u001b[0m     \u001b[0mrandom_generated_label\u001b[0m \u001b[0;34m=\u001b[0m \u001b[0mnp\u001b[0m\u001b[0;34m.\u001b[0m\u001b[0mrandom\u001b[0m\u001b[0;34m.\u001b[0m\u001b[0mrandint\u001b[0m\u001b[0;34m(\u001b[0m\u001b[0;36m0\u001b[0m\u001b[0;34m,\u001b[0m \u001b[0;36m10\u001b[0m\u001b[0;34m,\u001b[0m \u001b[0mbatch_size\u001b[0m\u001b[0;34m)\u001b[0m\u001b[0;34m\u001b[0m\u001b[0;34m\u001b[0m\u001b[0m\n\u001b[0;32m---> 10\u001b[0;31m     \u001b[0mgenerated_img\u001b[0m \u001b[0;34m=\u001b[0m \u001b[0mgenerator\u001b[0m\u001b[0;34m.\u001b[0m\u001b[0mpredict\u001b[0m\u001b[0;34m(\u001b[0m\u001b[0;34m[\u001b[0m\u001b[0mrandom_latent_vector\u001b[0m\u001b[0;34m,\u001b[0m \u001b[0mrandom_generated_label\u001b[0m\u001b[0;34m]\u001b[0m\u001b[0;34m)\u001b[0m\u001b[0;34m\u001b[0m\u001b[0;34m\u001b[0m\u001b[0m\n\u001b[0m\u001b[1;32m     11\u001b[0m     \u001b[0mimg_label\u001b[0m \u001b[0;34m=\u001b[0m \u001b[0mrandom_generated_label\u001b[0m\u001b[0;34m[\u001b[0m\u001b[0;36m0\u001b[0m\u001b[0;34m]\u001b[0m\u001b[0;34m\u001b[0m\u001b[0;34m\u001b[0m\u001b[0m\n\u001b[1;32m     12\u001b[0m \u001b[0;34m\u001b[0m\u001b[0m\n",
      "\u001b[0;32m/usr/lib/python3.9/site-packages/tensorflow/python/keras/engine/training.py\u001b[0m in \u001b[0;36mpredict\u001b[0;34m(self, x, batch_size, verbose, steps, callbacks, max_queue_size, workers, use_multiprocessing)\u001b[0m\n\u001b[1;32m   1623\u001b[0m       \u001b[0mcallbacks\u001b[0m\u001b[0;34m.\u001b[0m\u001b[0mon_predict_begin\u001b[0m\u001b[0;34m(\u001b[0m\u001b[0;34m)\u001b[0m\u001b[0;34m\u001b[0m\u001b[0;34m\u001b[0m\u001b[0m\n\u001b[1;32m   1624\u001b[0m       \u001b[0mbatch_outputs\u001b[0m \u001b[0;34m=\u001b[0m \u001b[0;32mNone\u001b[0m\u001b[0;34m\u001b[0m\u001b[0;34m\u001b[0m\u001b[0m\n\u001b[0;32m-> 1625\u001b[0;31m       \u001b[0;32mfor\u001b[0m \u001b[0m_\u001b[0m\u001b[0;34m,\u001b[0m \u001b[0miterator\u001b[0m \u001b[0;32min\u001b[0m \u001b[0mdata_handler\u001b[0m\u001b[0;34m.\u001b[0m\u001b[0menumerate_epochs\u001b[0m\u001b[0;34m(\u001b[0m\u001b[0;34m)\u001b[0m\u001b[0;34m:\u001b[0m  \u001b[0;31m# Single epoch.\u001b[0m\u001b[0;34m\u001b[0m\u001b[0;34m\u001b[0m\u001b[0m\n\u001b[0m\u001b[1;32m   1626\u001b[0m         \u001b[0;32mwith\u001b[0m \u001b[0mdata_handler\u001b[0m\u001b[0;34m.\u001b[0m\u001b[0mcatch_stop_iteration\u001b[0m\u001b[0;34m(\u001b[0m\u001b[0;34m)\u001b[0m\u001b[0;34m:\u001b[0m\u001b[0;34m\u001b[0m\u001b[0;34m\u001b[0m\u001b[0m\n\u001b[1;32m   1627\u001b[0m           \u001b[0;32mfor\u001b[0m \u001b[0mstep\u001b[0m \u001b[0;32min\u001b[0m \u001b[0mdata_handler\u001b[0m\u001b[0;34m.\u001b[0m\u001b[0msteps\u001b[0m\u001b[0;34m(\u001b[0m\u001b[0;34m)\u001b[0m\u001b[0;34m:\u001b[0m\u001b[0;34m\u001b[0m\u001b[0;34m\u001b[0m\u001b[0m\n",
      "\u001b[0;32m/usr/lib/python3.9/site-packages/tensorflow/python/keras/engine/data_adapter.py\u001b[0m in \u001b[0;36menumerate_epochs\u001b[0;34m(self)\u001b[0m\n\u001b[1;32m   1131\u001b[0m     \u001b[0;34m\"\"\"Yields `(epoch, tf.data.Iterator)`.\"\"\"\u001b[0m\u001b[0;34m\u001b[0m\u001b[0;34m\u001b[0m\u001b[0m\n\u001b[1;32m   1132\u001b[0m     \u001b[0;32mwith\u001b[0m \u001b[0mself\u001b[0m\u001b[0;34m.\u001b[0m\u001b[0m_truncate_execution_to_epoch\u001b[0m\u001b[0;34m(\u001b[0m\u001b[0;34m)\u001b[0m\u001b[0;34m:\u001b[0m\u001b[0;34m\u001b[0m\u001b[0;34m\u001b[0m\u001b[0m\n\u001b[0;32m-> 1133\u001b[0;31m       \u001b[0mdata_iterator\u001b[0m \u001b[0;34m=\u001b[0m \u001b[0miter\u001b[0m\u001b[0;34m(\u001b[0m\u001b[0mself\u001b[0m\u001b[0;34m.\u001b[0m\u001b[0m_dataset\u001b[0m\u001b[0;34m)\u001b[0m\u001b[0;34m\u001b[0m\u001b[0;34m\u001b[0m\u001b[0m\n\u001b[0m\u001b[1;32m   1134\u001b[0m       \u001b[0;32mfor\u001b[0m \u001b[0mepoch\u001b[0m \u001b[0;32min\u001b[0m \u001b[0mrange\u001b[0m\u001b[0;34m(\u001b[0m\u001b[0mself\u001b[0m\u001b[0;34m.\u001b[0m\u001b[0m_initial_epoch\u001b[0m\u001b[0;34m,\u001b[0m \u001b[0mself\u001b[0m\u001b[0;34m.\u001b[0m\u001b[0m_epochs\u001b[0m\u001b[0;34m)\u001b[0m\u001b[0;34m:\u001b[0m\u001b[0;34m\u001b[0m\u001b[0;34m\u001b[0m\u001b[0m\n\u001b[1;32m   1135\u001b[0m         \u001b[0;32mif\u001b[0m \u001b[0mself\u001b[0m\u001b[0;34m.\u001b[0m\u001b[0m_insufficient_data\u001b[0m\u001b[0;34m:\u001b[0m  \u001b[0;31m# Set by `catch_stop_iteration`.\u001b[0m\u001b[0;34m\u001b[0m\u001b[0;34m\u001b[0m\u001b[0m\n",
      "\u001b[0;32m/usr/lib/python3.9/site-packages/tensorflow/python/data/ops/dataset_ops.py\u001b[0m in \u001b[0;36m__iter__\u001b[0;34m(self)\u001b[0m\n\u001b[1;32m    420\u001b[0m     \u001b[0;32mif\u001b[0m \u001b[0mcontext\u001b[0m\u001b[0;34m.\u001b[0m\u001b[0mexecuting_eagerly\u001b[0m\u001b[0;34m(\u001b[0m\u001b[0;34m)\u001b[0m \u001b[0;32mor\u001b[0m \u001b[0mops\u001b[0m\u001b[0;34m.\u001b[0m\u001b[0minside_function\u001b[0m\u001b[0;34m(\u001b[0m\u001b[0;34m)\u001b[0m\u001b[0;34m:\u001b[0m\u001b[0;34m\u001b[0m\u001b[0;34m\u001b[0m\u001b[0m\n\u001b[1;32m    421\u001b[0m       \u001b[0;32mwith\u001b[0m \u001b[0mops\u001b[0m\u001b[0;34m.\u001b[0m\u001b[0mcolocate_with\u001b[0m\u001b[0;34m(\u001b[0m\u001b[0mself\u001b[0m\u001b[0;34m.\u001b[0m\u001b[0m_variant_tensor\u001b[0m\u001b[0;34m)\u001b[0m\u001b[0;34m:\u001b[0m\u001b[0;34m\u001b[0m\u001b[0;34m\u001b[0m\u001b[0m\n\u001b[0;32m--> 422\u001b[0;31m         \u001b[0;32mreturn\u001b[0m \u001b[0miterator_ops\u001b[0m\u001b[0;34m.\u001b[0m\u001b[0mOwnedIterator\u001b[0m\u001b[0;34m(\u001b[0m\u001b[0mself\u001b[0m\u001b[0;34m)\u001b[0m\u001b[0;34m\u001b[0m\u001b[0;34m\u001b[0m\u001b[0m\n\u001b[0m\u001b[1;32m    423\u001b[0m     \u001b[0;32melse\u001b[0m\u001b[0;34m:\u001b[0m\u001b[0;34m\u001b[0m\u001b[0;34m\u001b[0m\u001b[0m\n\u001b[1;32m    424\u001b[0m       raise RuntimeError(\"__iter__() is only supported inside of tf.function \"\n",
      "\u001b[0;32m/usr/lib/python3.9/site-packages/tensorflow/python/data/ops/iterator_ops.py\u001b[0m in \u001b[0;36m__init__\u001b[0;34m(self, dataset, components, element_spec)\u001b[0m\n\u001b[1;32m    680\u001b[0m       \u001b[0;32mif\u001b[0m \u001b[0;34m(\u001b[0m\u001b[0mcomponents\u001b[0m \u001b[0;32mis\u001b[0m \u001b[0;32mnot\u001b[0m \u001b[0;32mNone\u001b[0m \u001b[0;32mor\u001b[0m \u001b[0melement_spec\u001b[0m \u001b[0;32mis\u001b[0m \u001b[0;32mnot\u001b[0m \u001b[0;32mNone\u001b[0m\u001b[0;34m)\u001b[0m\u001b[0;34m:\u001b[0m\u001b[0;34m\u001b[0m\u001b[0;34m\u001b[0m\u001b[0m\n\u001b[1;32m    681\u001b[0m         \u001b[0;32mraise\u001b[0m \u001b[0mValueError\u001b[0m\u001b[0;34m(\u001b[0m\u001b[0merror_message\u001b[0m\u001b[0;34m)\u001b[0m\u001b[0;34m\u001b[0m\u001b[0;34m\u001b[0m\u001b[0m\n\u001b[0;32m--> 682\u001b[0;31m       \u001b[0mself\u001b[0m\u001b[0;34m.\u001b[0m\u001b[0m_create_iterator\u001b[0m\u001b[0;34m(\u001b[0m\u001b[0mdataset\u001b[0m\u001b[0;34m)\u001b[0m\u001b[0;34m\u001b[0m\u001b[0;34m\u001b[0m\u001b[0m\n\u001b[0m\u001b[1;32m    683\u001b[0m \u001b[0;34m\u001b[0m\u001b[0m\n\u001b[1;32m    684\u001b[0m   \u001b[0;32mdef\u001b[0m \u001b[0m_create_iterator\u001b[0m\u001b[0;34m(\u001b[0m\u001b[0mself\u001b[0m\u001b[0;34m,\u001b[0m \u001b[0mdataset\u001b[0m\u001b[0;34m)\u001b[0m\u001b[0;34m:\u001b[0m\u001b[0;34m\u001b[0m\u001b[0;34m\u001b[0m\u001b[0m\n",
      "\u001b[0;32m/usr/lib/python3.9/site-packages/tensorflow/python/data/ops/iterator_ops.py\u001b[0m in \u001b[0;36m_create_iterator\u001b[0;34m(self, dataset)\u001b[0m\n\u001b[1;32m    703\u001b[0m               \u001b[0moutput_types\u001b[0m\u001b[0;34m=\u001b[0m\u001b[0mself\u001b[0m\u001b[0;34m.\u001b[0m\u001b[0m_flat_output_types\u001b[0m\u001b[0;34m,\u001b[0m\u001b[0;34m\u001b[0m\u001b[0;34m\u001b[0m\u001b[0m\n\u001b[1;32m    704\u001b[0m               output_shapes=self._flat_output_shapes))\n\u001b[0;32m--> 705\u001b[0;31m       \u001b[0mgen_dataset_ops\u001b[0m\u001b[0;34m.\u001b[0m\u001b[0mmake_iterator\u001b[0m\u001b[0;34m(\u001b[0m\u001b[0mds_variant\u001b[0m\u001b[0;34m,\u001b[0m \u001b[0mself\u001b[0m\u001b[0;34m.\u001b[0m\u001b[0m_iterator_resource\u001b[0m\u001b[0;34m)\u001b[0m\u001b[0;34m\u001b[0m\u001b[0;34m\u001b[0m\u001b[0m\n\u001b[0m\u001b[1;32m    706\u001b[0m       \u001b[0;31m# Delete the resource when this object is deleted\u001b[0m\u001b[0;34m\u001b[0m\u001b[0;34m\u001b[0m\u001b[0;34m\u001b[0m\u001b[0m\n\u001b[1;32m    707\u001b[0m       self._resource_deleter = IteratorResourceDeleter(\n",
      "\u001b[0;32m/usr/lib/python3.9/site-packages/tensorflow/python/ops/gen_dataset_ops.py\u001b[0m in \u001b[0;36mmake_iterator\u001b[0;34m(dataset, iterator, name)\u001b[0m\n\u001b[1;32m   2969\u001b[0m   \u001b[0;32mif\u001b[0m \u001b[0mtld\u001b[0m\u001b[0;34m.\u001b[0m\u001b[0mis_eager\u001b[0m\u001b[0;34m:\u001b[0m\u001b[0;34m\u001b[0m\u001b[0;34m\u001b[0m\u001b[0m\n\u001b[1;32m   2970\u001b[0m     \u001b[0;32mtry\u001b[0m\u001b[0;34m:\u001b[0m\u001b[0;34m\u001b[0m\u001b[0;34m\u001b[0m\u001b[0m\n\u001b[0;32m-> 2971\u001b[0;31m       _result = pywrap_tfe.TFE_Py_FastPathExecute(\n\u001b[0m\u001b[1;32m   2972\u001b[0m         _ctx, \"MakeIterator\", name, dataset, iterator)\n\u001b[1;32m   2973\u001b[0m       \u001b[0;32mreturn\u001b[0m \u001b[0m_result\u001b[0m\u001b[0;34m\u001b[0m\u001b[0;34m\u001b[0m\u001b[0m\n",
      "\u001b[0;31mKeyboardInterrupt\u001b[0m: "
     ]
    }
   ],
   "source": [
    "import os\n",
    "iterations = 50000\n",
    "start = 10000\n",
    "batch_size = 128\n",
    "img_path = '/home/oneran/GAN_pictures/mnist'\n",
    "\n",
    "for step in range(iterations):\n",
    "    random_latent_vector = np.random.normal(size=(batch_size, latent_dim))\n",
    "    random_generated_label = np.random.randint(0, 10, batch_size)\n",
    "    generated_img = generator.predict([random_latent_vector, random_generated_label])\n",
    "    img_label = random_generated_label[0]\n",
    "\n",
    "    stop = start + batch_size\n",
    "    real_img = X_train[start: stop]\n",
    "    \n",
    "    combined_img = np.concatenate([generated_img, real_img])\n",
    "    combined_label = np.concatenate(\n",
    "        [np.ones((batch_size, 1)),\n",
    "        np.zeros((batch_size, 1))]\n",
    "    )\n",
    "\n",
    "    # 加入噪音 使得标签平滑化\n",
    "    combined_label += 0.05 * np.random.random(size=combined_label.shape)\n",
    "\n",
    "    loss_d = discriminator.train_on_batch([combined_img, np.concatenate([random_generated_label, Y_train[start: stop]])], combined_label)\n",
    "\n",
    "    random_latent_vector = np.random.normal(size=(batch_size, latent_dim))\n",
    "    random_generated_label = np.random.randint(0, 10, batch_size)\n",
    "    \n",
    "    misleading_labels = np.zeros(shape=(batch_size, 1))\n",
    "\n",
    "    loss_a = gan.train_on_batch([random_latent_vector, random_generated_label], misleading_labels)\n",
    "    \n",
    "    start += batch_size\n",
    "    \n",
    "    if start > len(X_train) - batch_size:\n",
    "        start = 0\n",
    "    \n",
    "    if step % 100 == 0:\n",
    "        gan.save_weights('gan.h5')\n",
    "\n",
    "        print('generator at loss:', loss_a)\n",
    "        print('discriminator at loss:', loss_d)\n",
    "        \n",
    "        img = image.array_to_img(generated_img[0]*127.5+127.5, scale=False)\n",
    "        img.save(os.path.join(img_path, 'generated_num_'+str(step)+'_'+str(img_label)+'.png'))\n",
    "        \n",
    "        img = image.array_to_img(real_img[0]*127.5+127.5, scale=False)\n",
    "        img.save(os.path.join(img_path, 'real_num_'+str(step)+'.png'))\n"
   ]
  },
  {
   "cell_type": "code",
   "execution_count": 9,
   "metadata": {},
   "outputs": [],
   "source": [
    "gan.save('/home/oneran/Models/gan.h5')"
   ]
  },
  {
   "cell_type": "code",
   "execution_count": 10,
   "metadata": {},
   "outputs": [],
   "source": [
    "generator.save('/home/oneran/Models/mnist_generator.h5')"
   ]
  },
  {
   "cell_type": "code",
   "execution_count": null,
   "metadata": {},
   "outputs": [],
   "source": []
  }
 ]
}