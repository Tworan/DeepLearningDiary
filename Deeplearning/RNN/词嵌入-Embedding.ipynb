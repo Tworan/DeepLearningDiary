{
 "metadata": {
  "language_info": {
   "codemirror_mode": {
    "name": "ipython",
    "version": 3
   },
   "file_extension": ".py",
   "mimetype": "text/x-python",
   "name": "python",
   "nbconvert_exporter": "python",
   "pygments_lexer": "ipython3",
   "version": "3.9.1-final"
  },
  "orig_nbformat": 2,
  "kernelspec": {
   "name": "python3",
   "display_name": "Python 3",
   "language": "python"
  }
 },
 "nbformat": 4,
 "nbformat_minor": 2,
 "cells": [
  {
   "cell_type": "code",
   "execution_count": 1,
   "metadata": {},
   "outputs": [],
   "source": [
    "from tensorflow.keras import layers\n",
    "\n",
    "embedding_layer = layers.Embedding(1000, 64)        # 1000-最大单词索引+1----即单词总量     64-嵌入的维度"
   ]
  },
  {
   "cell_type": "code",
   "execution_count": 2,
   "metadata": {},
   "outputs": [
    {
     "output_type": "stream",
     "name": "stdout",
     "text": [
      "(25000,) (25000,)\n"
     ]
    }
   ],
   "source": [
    "from tensorflow.keras.datasets import imdb\n",
    "from tensorflow.keras import preprocessing\n",
    "\n",
    "max_feature = 1000  #作为特征的单词个数\n",
    "maxlen = 20         #向量密度\n",
    "\n",
    "(X_train, Y_train), (X_test, Y_test) = imdb.load_data(num_words=max_feature)\n",
    "\n",
    "print(X_train.shape, X_test.shape)\n"
   ]
  },
  {
   "cell_type": "code",
   "execution_count": 3,
   "metadata": {},
   "outputs": [
    {
     "output_type": "stream",
     "name": "stdout",
     "text": [
      "(25000, 20) (25000, 20)\n"
     ]
    }
   ],
   "source": [
    "X_train = preprocessing.sequence.pad_sequences(X_train, maxlen)\n",
    "X_test = preprocessing.sequence.pad_sequences(X_test, maxlen)\n",
    "\n",
    "print(X_train.shape, X_test.shape)"
   ]
  },
  {
   "cell_type": "code",
   "execution_count": 6,
   "metadata": {},
   "outputs": [
    {
     "output_type": "stream",
     "name": "stdout",
     "text": [
      "Epoch 1/10\n",
      "625/625 [==============================] - 2s 2ms/step - loss: 0.6818 - acc: 0.5808 - val_loss: 0.6138 - val_acc: 0.6900\n",
      "Epoch 2/10\n",
      "625/625 [==============================] - 1s 2ms/step - loss: 0.5723 - acc: 0.7275 - val_loss: 0.5441 - val_acc: 0.7202\n",
      "Epoch 3/10\n",
      "625/625 [==============================] - 1s 2ms/step - loss: 0.5114 - acc: 0.7506 - val_loss: 0.5293 - val_acc: 0.7288\n",
      "Epoch 4/10\n",
      "625/625 [==============================] - 1s 2ms/step - loss: 0.4860 - acc: 0.7601 - val_loss: 0.5268 - val_acc: 0.7314\n",
      "Epoch 5/10\n",
      "625/625 [==============================] - 1s 2ms/step - loss: 0.4758 - acc: 0.7663 - val_loss: 0.5279 - val_acc: 0.7356\n",
      "Epoch 6/10\n",
      "625/625 [==============================] - 1s 2ms/step - loss: 0.4712 - acc: 0.7720 - val_loss: 0.5282 - val_acc: 0.7340\n",
      "Epoch 7/10\n",
      "625/625 [==============================] - 1s 2ms/step - loss: 0.4624 - acc: 0.7754 - val_loss: 0.5306 - val_acc: 0.7330\n",
      "Epoch 8/10\n",
      "625/625 [==============================] - 1s 2ms/step - loss: 0.4463 - acc: 0.7871 - val_loss: 0.5363 - val_acc: 0.7338\n",
      "Epoch 9/10\n",
      "625/625 [==============================] - 1s 2ms/step - loss: 0.4481 - acc: 0.7824 - val_loss: 0.5371 - val_acc: 0.7294\n",
      "Epoch 10/10\n",
      "625/625 [==============================] - 1s 2ms/step - loss: 0.4367 - acc: 0.7938 - val_loss: 0.5411 - val_acc: 0.7276\n"
     ]
    }
   ],
   "source": [
    "from tensorflow.keras.models import Sequential\n",
    "\n",
    "model = Sequential()\n",
    "model.add(\n",
    "    layers.Embedding(10000, 8, input_length=maxlen)\n",
    ")\n",
    "model.add(\n",
    "    layers.Flatten()\n",
    ")\n",
    "model.add(\n",
    "    layers.Dense(1, activation='sigmoid')\n",
    ")\n",
    "model.compile(\n",
    "    optimizer='rmsprop',\n",
    "    loss='binary_crossentropy',\n",
    "    metrics=['acc']\n",
    ")\n",
    "history = model.fit(\n",
    "    X_train, Y_train,\n",
    "    epochs=10,\n",
    "    batch_size=32,\n",
    "    validation_split=0.2\n",
    ")"
   ]
  },
  {
   "cell_type": "code",
   "execution_count": null,
   "metadata": {},
   "outputs": [],
   "source": []
  }
 ]
}