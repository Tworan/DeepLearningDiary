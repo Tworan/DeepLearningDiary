{
 "metadata": {
  "language_info": {
   "codemirror_mode": {
    "name": "ipython",
    "version": 3
   },
   "file_extension": ".py",
   "mimetype": "text/x-python",
   "name": "python",
   "nbconvert_exporter": "python",
   "pygments_lexer": "ipython3",
   "version": "3.9.1-final"
  },
  "orig_nbformat": 2,
  "kernelspec": {
   "name": "python3",
   "display_name": "Python 3",
   "language": "python"
  }
 },
 "nbformat": 4,
 "nbformat_minor": 2,
 "cells": [
  {
   "cell_type": "code",
   "execution_count": 1,
   "metadata": {},
   "outputs": [],
   "source": [
    "import numpy as np\n",
    "from tensorflow.keras import layers, models, regularizers, optimizers, initializers\n",
    "from tensorflow.keras.applications import VGG16\n",
    "\n",
    "from tensorflow.compat.v1 import ConfigProto\n",
    "from tensorflow.compat.v1 import InteractiveSession\n",
    "from tensorflow.compat.v1.keras.backend import set_session\n",
    "from tensorflow.compat.v1 import ConfigProto, Session\n",
    "import tensorflow.keras\n",
    "config = ConfigProto(allow_soft_placement=True)\n",
    "\n",
    "config.gpu_options.per_process_gpu_memory_fraction = 0.7\n",
    "set_session(Session(config=config))"
   ]
  },
  {
   "cell_type": "code",
   "execution_count": 2,
   "metadata": {},
   "outputs": [],
   "source": [
    "conv_base = VGG16(\n",
    "    include_top=False,\n",
    "    weights='imagenet',\n",
    "    input_shape=(150, 150, 3)\n",
    ")"
   ]
  },
  {
   "cell_type": "code",
   "execution_count": 3,
   "metadata": {},
   "outputs": [
    {
     "output_type": "stream",
     "name": "stdout",
     "text": [
      "Model: \"vgg16\"\n_________________________________________________________________\nLayer (type)                 Output Shape              Param #   \n=================================================================\ninput_1 (InputLayer)         [(None, 150, 150, 3)]     0         \n_________________________________________________________________\nblock1_conv1 (Conv2D)        (None, 150, 150, 64)      1792      \n_________________________________________________________________\nblock1_conv2 (Conv2D)        (None, 150, 150, 64)      36928     \n_________________________________________________________________\nblock1_pool (MaxPooling2D)   (None, 75, 75, 64)        0         \n_________________________________________________________________\nblock2_conv1 (Conv2D)        (None, 75, 75, 128)       73856     \n_________________________________________________________________\nblock2_conv2 (Conv2D)        (None, 75, 75, 128)       147584    \n_________________________________________________________________\nblock2_pool (MaxPooling2D)   (None, 37, 37, 128)       0         \n_________________________________________________________________\nblock3_conv1 (Conv2D)        (None, 37, 37, 256)       295168    \n_________________________________________________________________\nblock3_conv2 (Conv2D)        (None, 37, 37, 256)       590080    \n_________________________________________________________________\nblock3_conv3 (Conv2D)        (None, 37, 37, 256)       590080    \n_________________________________________________________________\nblock3_pool (MaxPooling2D)   (None, 18, 18, 256)       0         \n_________________________________________________________________\nblock4_conv1 (Conv2D)        (None, 18, 18, 512)       1180160   \n_________________________________________________________________\nblock4_conv2 (Conv2D)        (None, 18, 18, 512)       2359808   \n_________________________________________________________________\nblock4_conv3 (Conv2D)        (None, 18, 18, 512)       2359808   \n_________________________________________________________________\nblock4_pool (MaxPooling2D)   (None, 9, 9, 512)         0         \n_________________________________________________________________\nblock5_conv1 (Conv2D)        (None, 9, 9, 512)         2359808   \n_________________________________________________________________\nblock5_conv2 (Conv2D)        (None, 9, 9, 512)         2359808   \n_________________________________________________________________\nblock5_conv3 (Conv2D)        (None, 9, 9, 512)         2359808   \n_________________________________________________________________\nblock5_pool (MaxPooling2D)   (None, 4, 4, 512)         0         \n=================================================================\nTotal params: 14,714,688\nTrainable params: 14,714,688\nNon-trainable params: 0\n_________________________________________________________________\n"
     ]
    }
   ],
   "source": [
    "conv_base.summary()"
   ]
  },
  {
   "cell_type": "code",
   "execution_count": 4,
   "metadata": {},
   "outputs": [
    {
     "output_type": "stream",
     "name": "stdout",
     "text": [
      "Found 2000 images belonging to 2 classes.\nFound 1000 images belonging to 2 classes.\n"
     ]
    }
   ],
   "source": [
    "from tensorflow.keras.preprocessing import image\n",
    "train_datagen = image.ImageDataGenerator(\n",
    "    1.0/255,\n",
    "    rotation_range=40,\n",
    "    width_shift_range=0.2,\n",
    "    height_shift_range=0.2,\n",
    "    shear_range=0.2,\n",
    "    zoom_range=0.2,\n",
    "    horizontal_flip=True,\n",
    "    fill_mode='nearest'\n",
    ")\n",
    "val_datagen = image.ImageDataGenerator(\n",
    "    1.0/255\n",
    ")\n",
    "\n",
    "train_generator = train_datagen.flow_from_directory(\n",
    "    '/home/oneran/dog-vs-cats/train',\n",
    "    target_size=(150, 150),\n",
    "    batch_size=20,\n",
    "    class_mode='binary'\n",
    ")\n",
    "\n",
    "validation_generator = val_datagen.flow_from_directory(\n",
    "    '/home/oneran/dog-vs-cats/val',\n",
    "    target_size=(150, 150),\n",
    "    batch_size=20,\n",
    "    class_mode='binary'\n",
    ")"
   ]
  },
  {
   "cell_type": "code",
   "execution_count": 5,
   "metadata": {},
   "outputs": [],
   "source": [
    "def build_model():\n",
    "    model = models.Sequential()\n",
    "    model.add(\n",
    "        conv_base\n",
    "    )\n",
    "    conv_base.trainable = False\n",
    "    model.add(\n",
    "        layers.Flatten()\n",
    "    )\n",
    "    # model.add(\n",
    "    #     layers.Dropout(0.5)\n",
    "    # )\n",
    "    model.add(\n",
    "        layers.Dense(512, activation='relu', kernel_initializer='he_normal')\n",
    "    )\n",
    "    model.add(\n",
    "        layers.Dense(1, activation='sigmoid')\n",
    "    )\n",
    "    model.compile(\n",
    "        optimizer=optimizers.Adagrad(),\n",
    "        metrics=['acc'],\n",
    "        loss='binary_crossentropy'\n",
    "    )\n",
    "    return model"
   ]
  },
  {
   "cell_type": "code",
   "execution_count": 6,
   "metadata": {},
   "outputs": [],
   "source": [
    "from tensorflow.keras.callbacks import TensorBoard\n",
    "import datetime"
   ]
  },
  {
   "cell_type": "code",
   "execution_count": 7,
   "metadata": {},
   "outputs": [],
   "source": [
    "conv_base.trainable = False"
   ]
  },
  {
   "cell_type": "code",
   "execution_count": 8,
   "metadata": {},
   "outputs": [
    {
     "output_type": "stream",
     "name": "stdout",
     "text": [
      "Epoch 1/30\n",
      "100/100 [==============================] - 22s 169ms/step - loss: 3.8246 - acc: 0.7698 - val_loss: 1.0506 - val_acc: 0.9100\n",
      "Epoch 2/30\n",
      "100/100 [==============================] - 16s 160ms/step - loss: 1.3869 - acc: 0.8571 - val_loss: 0.7975 - val_acc: 0.9300\n",
      "Epoch 3/30\n",
      "100/100 [==============================] - 16s 160ms/step - loss: 0.9608 - acc: 0.8947 - val_loss: 0.6596 - val_acc: 0.9290\n",
      "Epoch 4/30\n",
      "  4/100 [>.............................] - ETA: 10s - loss: 0.4270 - acc: 0.9094"
     ]
    },
    {
     "output_type": "error",
     "ename": "KeyboardInterrupt",
     "evalue": "",
     "traceback": [
      "\u001b[0;31m---------------------------------------------------------------------------\u001b[0m",
      "\u001b[0;31mKeyboardInterrupt\u001b[0m                         Traceback (most recent call last)",
      "\u001b[0;32m<ipython-input-8-6a79988cf1e3>\u001b[0m in \u001b[0;36m<module>\u001b[0;34m\u001b[0m\n\u001b[1;32m      2\u001b[0m \u001b[0mcallback_tensorboard\u001b[0m \u001b[0;34m=\u001b[0m \u001b[0mTensorBoard\u001b[0m\u001b[0;34m(\u001b[0m\u001b[0mlog_dir\u001b[0m\u001b[0;34m=\u001b[0m\u001b[0mlog_dir\u001b[0m\u001b[0;34m,\u001b[0m \u001b[0mhistogram_freq\u001b[0m\u001b[0;34m=\u001b[0m\u001b[0;36m1\u001b[0m\u001b[0;34m)\u001b[0m\u001b[0;34m\u001b[0m\u001b[0;34m\u001b[0m\u001b[0m\n\u001b[1;32m      3\u001b[0m \u001b[0mmodel\u001b[0m \u001b[0;34m=\u001b[0m \u001b[0mbuild_model\u001b[0m\u001b[0;34m(\u001b[0m\u001b[0;34m)\u001b[0m\u001b[0;34m\u001b[0m\u001b[0;34m\u001b[0m\u001b[0m\n\u001b[0;32m----> 4\u001b[0;31m model.fit_generator(\n\u001b[0m\u001b[1;32m      5\u001b[0m     \u001b[0mtrain_generator\u001b[0m\u001b[0;34m,\u001b[0m\u001b[0;34m\u001b[0m\u001b[0;34m\u001b[0m\u001b[0m\n\u001b[1;32m      6\u001b[0m     \u001b[0mepochs\u001b[0m\u001b[0;34m=\u001b[0m\u001b[0;36m30\u001b[0m\u001b[0;34m,\u001b[0m\u001b[0;34m\u001b[0m\u001b[0;34m\u001b[0m\u001b[0m\n",
      "\u001b[0;32m/usr/lib/python3.9/site-packages/tensorflow/python/keras/engine/training.py\u001b[0m in \u001b[0;36mfit_generator\u001b[0;34m(self, generator, steps_per_epoch, epochs, verbose, callbacks, validation_data, validation_steps, validation_freq, class_weight, max_queue_size, workers, use_multiprocessing, shuffle, initial_epoch)\u001b[0m\n\u001b[1;32m   1845\u001b[0m                   \u001b[0;34m'will be removed in a future version. '\u001b[0m\u001b[0;34m\u001b[0m\u001b[0;34m\u001b[0m\u001b[0m\n\u001b[1;32m   1846\u001b[0m                   'Please use `Model.fit`, which supports generators.')\n\u001b[0;32m-> 1847\u001b[0;31m     return self.fit(\n\u001b[0m\u001b[1;32m   1848\u001b[0m         \u001b[0mgenerator\u001b[0m\u001b[0;34m,\u001b[0m\u001b[0;34m\u001b[0m\u001b[0;34m\u001b[0m\u001b[0m\n\u001b[1;32m   1849\u001b[0m         \u001b[0msteps_per_epoch\u001b[0m\u001b[0;34m=\u001b[0m\u001b[0msteps_per_epoch\u001b[0m\u001b[0;34m,\u001b[0m\u001b[0;34m\u001b[0m\u001b[0;34m\u001b[0m\u001b[0m\n",
      "\u001b[0;32m/usr/lib/python3.9/site-packages/tensorflow/python/keras/engine/training.py\u001b[0m in \u001b[0;36mfit\u001b[0;34m(self, x, y, batch_size, epochs, verbose, callbacks, validation_split, validation_data, shuffle, class_weight, sample_weight, initial_epoch, steps_per_epoch, validation_steps, validation_batch_size, validation_freq, max_queue_size, workers, use_multiprocessing)\u001b[0m\n\u001b[1;32m   1098\u001b[0m                 _r=1):\n\u001b[1;32m   1099\u001b[0m               \u001b[0mcallbacks\u001b[0m\u001b[0;34m.\u001b[0m\u001b[0mon_train_batch_begin\u001b[0m\u001b[0;34m(\u001b[0m\u001b[0mstep\u001b[0m\u001b[0;34m)\u001b[0m\u001b[0;34m\u001b[0m\u001b[0;34m\u001b[0m\u001b[0m\n\u001b[0;32m-> 1100\u001b[0;31m               \u001b[0mtmp_logs\u001b[0m \u001b[0;34m=\u001b[0m \u001b[0mself\u001b[0m\u001b[0;34m.\u001b[0m\u001b[0mtrain_function\u001b[0m\u001b[0;34m(\u001b[0m\u001b[0miterator\u001b[0m\u001b[0;34m)\u001b[0m\u001b[0;34m\u001b[0m\u001b[0;34m\u001b[0m\u001b[0m\n\u001b[0m\u001b[1;32m   1101\u001b[0m               \u001b[0;32mif\u001b[0m \u001b[0mdata_handler\u001b[0m\u001b[0;34m.\u001b[0m\u001b[0mshould_sync\u001b[0m\u001b[0;34m:\u001b[0m\u001b[0;34m\u001b[0m\u001b[0;34m\u001b[0m\u001b[0m\n\u001b[1;32m   1102\u001b[0m                 \u001b[0mcontext\u001b[0m\u001b[0;34m.\u001b[0m\u001b[0masync_wait\u001b[0m\u001b[0;34m(\u001b[0m\u001b[0;34m)\u001b[0m\u001b[0;34m\u001b[0m\u001b[0;34m\u001b[0m\u001b[0m\n",
      "\u001b[0;32m/usr/lib/python3.9/site-packages/tensorflow/python/eager/def_function.py\u001b[0m in \u001b[0;36m__call__\u001b[0;34m(self, *args, **kwds)\u001b[0m\n\u001b[1;32m    826\u001b[0m     \u001b[0mtracing_count\u001b[0m \u001b[0;34m=\u001b[0m \u001b[0mself\u001b[0m\u001b[0;34m.\u001b[0m\u001b[0mexperimental_get_tracing_count\u001b[0m\u001b[0;34m(\u001b[0m\u001b[0;34m)\u001b[0m\u001b[0;34m\u001b[0m\u001b[0;34m\u001b[0m\u001b[0m\n\u001b[1;32m    827\u001b[0m     \u001b[0;32mwith\u001b[0m \u001b[0mtrace\u001b[0m\u001b[0;34m.\u001b[0m\u001b[0mTrace\u001b[0m\u001b[0;34m(\u001b[0m\u001b[0mself\u001b[0m\u001b[0;34m.\u001b[0m\u001b[0m_name\u001b[0m\u001b[0;34m)\u001b[0m \u001b[0;32mas\u001b[0m \u001b[0mtm\u001b[0m\u001b[0;34m:\u001b[0m\u001b[0;34m\u001b[0m\u001b[0;34m\u001b[0m\u001b[0m\n\u001b[0;32m--> 828\u001b[0;31m       \u001b[0mresult\u001b[0m \u001b[0;34m=\u001b[0m \u001b[0mself\u001b[0m\u001b[0;34m.\u001b[0m\u001b[0m_call\u001b[0m\u001b[0;34m(\u001b[0m\u001b[0;34m*\u001b[0m\u001b[0margs\u001b[0m\u001b[0;34m,\u001b[0m \u001b[0;34m**\u001b[0m\u001b[0mkwds\u001b[0m\u001b[0;34m)\u001b[0m\u001b[0;34m\u001b[0m\u001b[0;34m\u001b[0m\u001b[0m\n\u001b[0m\u001b[1;32m    829\u001b[0m       \u001b[0mcompiler\u001b[0m \u001b[0;34m=\u001b[0m \u001b[0;34m\"xla\"\u001b[0m \u001b[0;32mif\u001b[0m \u001b[0mself\u001b[0m\u001b[0;34m.\u001b[0m\u001b[0m_experimental_compile\u001b[0m \u001b[0;32melse\u001b[0m \u001b[0;34m\"nonXla\"\u001b[0m\u001b[0;34m\u001b[0m\u001b[0;34m\u001b[0m\u001b[0m\n\u001b[1;32m    830\u001b[0m       \u001b[0mnew_tracing_count\u001b[0m \u001b[0;34m=\u001b[0m \u001b[0mself\u001b[0m\u001b[0;34m.\u001b[0m\u001b[0mexperimental_get_tracing_count\u001b[0m\u001b[0;34m(\u001b[0m\u001b[0;34m)\u001b[0m\u001b[0;34m\u001b[0m\u001b[0;34m\u001b[0m\u001b[0m\n",
      "\u001b[0;32m/usr/lib/python3.9/site-packages/tensorflow/python/eager/def_function.py\u001b[0m in \u001b[0;36m_call\u001b[0;34m(self, *args, **kwds)\u001b[0m\n\u001b[1;32m    853\u001b[0m       \u001b[0;31m# In this case we have created variables on the first call, so we run the\u001b[0m\u001b[0;34m\u001b[0m\u001b[0;34m\u001b[0m\u001b[0;34m\u001b[0m\u001b[0m\n\u001b[1;32m    854\u001b[0m       \u001b[0;31m# defunned version which is guaranteed to never create variables.\u001b[0m\u001b[0;34m\u001b[0m\u001b[0;34m\u001b[0m\u001b[0;34m\u001b[0m\u001b[0m\n\u001b[0;32m--> 855\u001b[0;31m       \u001b[0;32mreturn\u001b[0m \u001b[0mself\u001b[0m\u001b[0;34m.\u001b[0m\u001b[0m_stateless_fn\u001b[0m\u001b[0;34m(\u001b[0m\u001b[0;34m*\u001b[0m\u001b[0margs\u001b[0m\u001b[0;34m,\u001b[0m \u001b[0;34m**\u001b[0m\u001b[0mkwds\u001b[0m\u001b[0;34m)\u001b[0m  \u001b[0;31m# pylint: disable=not-callable\u001b[0m\u001b[0;34m\u001b[0m\u001b[0;34m\u001b[0m\u001b[0m\n\u001b[0m\u001b[1;32m    856\u001b[0m     \u001b[0;32melif\u001b[0m \u001b[0mself\u001b[0m\u001b[0;34m.\u001b[0m\u001b[0m_stateful_fn\u001b[0m \u001b[0;32mis\u001b[0m \u001b[0;32mnot\u001b[0m \u001b[0;32mNone\u001b[0m\u001b[0;34m:\u001b[0m\u001b[0;34m\u001b[0m\u001b[0;34m\u001b[0m\u001b[0m\n\u001b[1;32m    857\u001b[0m       \u001b[0;31m# Release the lock early so that multiple threads can perform the call\u001b[0m\u001b[0;34m\u001b[0m\u001b[0;34m\u001b[0m\u001b[0;34m\u001b[0m\u001b[0m\n",
      "\u001b[0;32m/usr/lib/python3.9/site-packages/tensorflow/python/eager/function.py\u001b[0m in \u001b[0;36m__call__\u001b[0;34m(self, *args, **kwargs)\u001b[0m\n\u001b[1;32m   2940\u001b[0m       (graph_function,\n\u001b[1;32m   2941\u001b[0m        filtered_flat_args) = self._maybe_define_function(args, kwargs)\n\u001b[0;32m-> 2942\u001b[0;31m     return graph_function._call_flat(\n\u001b[0m\u001b[1;32m   2943\u001b[0m         filtered_flat_args, captured_inputs=graph_function.captured_inputs)  # pylint: disable=protected-access\n\u001b[1;32m   2944\u001b[0m \u001b[0;34m\u001b[0m\u001b[0m\n",
      "\u001b[0;32m/usr/lib/python3.9/site-packages/tensorflow/python/eager/function.py\u001b[0m in \u001b[0;36m_call_flat\u001b[0;34m(self, args, captured_inputs, cancellation_manager)\u001b[0m\n\u001b[1;32m   1916\u001b[0m         and executing_eagerly):\n\u001b[1;32m   1917\u001b[0m       \u001b[0;31m# No tape is watching; skip to running the function.\u001b[0m\u001b[0;34m\u001b[0m\u001b[0;34m\u001b[0m\u001b[0;34m\u001b[0m\u001b[0m\n\u001b[0;32m-> 1918\u001b[0;31m       return self._build_call_outputs(self._inference_function.call(\n\u001b[0m\u001b[1;32m   1919\u001b[0m           ctx, args, cancellation_manager=cancellation_manager))\n\u001b[1;32m   1920\u001b[0m     forward_backward = self._select_forward_and_backward_functions(\n",
      "\u001b[0;32m/usr/lib/python3.9/site-packages/tensorflow/python/eager/function.py\u001b[0m in \u001b[0;36mcall\u001b[0;34m(self, ctx, args, cancellation_manager)\u001b[0m\n\u001b[1;32m    553\u001b[0m       \u001b[0;32mwith\u001b[0m \u001b[0m_InterpolateFunctionError\u001b[0m\u001b[0;34m(\u001b[0m\u001b[0mself\u001b[0m\u001b[0;34m)\u001b[0m\u001b[0;34m:\u001b[0m\u001b[0;34m\u001b[0m\u001b[0;34m\u001b[0m\u001b[0m\n\u001b[1;32m    554\u001b[0m         \u001b[0;32mif\u001b[0m \u001b[0mcancellation_manager\u001b[0m \u001b[0;32mis\u001b[0m \u001b[0;32mNone\u001b[0m\u001b[0;34m:\u001b[0m\u001b[0;34m\u001b[0m\u001b[0;34m\u001b[0m\u001b[0m\n\u001b[0;32m--> 555\u001b[0;31m           outputs = execute.execute(\n\u001b[0m\u001b[1;32m    556\u001b[0m               \u001b[0mstr\u001b[0m\u001b[0;34m(\u001b[0m\u001b[0mself\u001b[0m\u001b[0;34m.\u001b[0m\u001b[0msignature\u001b[0m\u001b[0;34m.\u001b[0m\u001b[0mname\u001b[0m\u001b[0;34m)\u001b[0m\u001b[0;34m,\u001b[0m\u001b[0;34m\u001b[0m\u001b[0;34m\u001b[0m\u001b[0m\n\u001b[1;32m    557\u001b[0m               \u001b[0mnum_outputs\u001b[0m\u001b[0;34m=\u001b[0m\u001b[0mself\u001b[0m\u001b[0;34m.\u001b[0m\u001b[0m_num_outputs\u001b[0m\u001b[0;34m,\u001b[0m\u001b[0;34m\u001b[0m\u001b[0;34m\u001b[0m\u001b[0m\n",
      "\u001b[0;32m/usr/lib/python3.9/site-packages/tensorflow/python/eager/execute.py\u001b[0m in \u001b[0;36mquick_execute\u001b[0;34m(op_name, num_outputs, inputs, attrs, ctx, name)\u001b[0m\n\u001b[1;32m     57\u001b[0m   \u001b[0;32mtry\u001b[0m\u001b[0;34m:\u001b[0m\u001b[0;34m\u001b[0m\u001b[0;34m\u001b[0m\u001b[0m\n\u001b[1;32m     58\u001b[0m     \u001b[0mctx\u001b[0m\u001b[0;34m.\u001b[0m\u001b[0mensure_initialized\u001b[0m\u001b[0;34m(\u001b[0m\u001b[0;34m)\u001b[0m\u001b[0;34m\u001b[0m\u001b[0;34m\u001b[0m\u001b[0m\n\u001b[0;32m---> 59\u001b[0;31m     tensors = pywrap_tfe.TFE_Py_Execute(ctx._handle, device_name, op_name,\n\u001b[0m\u001b[1;32m     60\u001b[0m                                         inputs, attrs, num_outputs)\n\u001b[1;32m     61\u001b[0m   \u001b[0;32mexcept\u001b[0m \u001b[0mcore\u001b[0m\u001b[0;34m.\u001b[0m\u001b[0m_NotOkStatusException\u001b[0m \u001b[0;32mas\u001b[0m \u001b[0me\u001b[0m\u001b[0;34m:\u001b[0m\u001b[0;34m\u001b[0m\u001b[0;34m\u001b[0m\u001b[0m\n",
      "\u001b[0;31mKeyboardInterrupt\u001b[0m: "
     ]
    }
   ],
   "source": [
    "log_dir = '/home/oneran/Mycodes/DeepLearning/log/VGG16_' + str(datetime.datetime.now()) + '_runtime_9'\n",
    "callback_tensorboard = TensorBoard(log_dir=log_dir, histogram_freq=1)\n",
    "model = build_model()\n",
    "model.fit_generator(\n",
    "    train_generator,\n",
    "    epochs=30,\n",
    "    validation_data=validation_generator,\n",
    "    callbacks=callback_tensorboard,\n",
    ")"
   ]
  },
  {
   "cell_type": "code",
   "execution_count": 9,
   "metadata": {},
   "outputs": [
    {
     "output_type": "stream",
     "name": "stdout",
     "text": [
      "Found 1000 images belonging to 2 classes.\n"
     ]
    }
   ],
   "source": [
    "test_datagen = image.ImageDataGenerator(\n",
    "    1.0/255\n",
    ")\n",
    "test_generator = test_datagen.flow_from_directory(\n",
    "    '/home/oneran/dog-vs-cats/test',\n",
    "    class_mode='binary',\n",
    "    target_size=(150, 150)    \n",
    ")"
   ]
  },
  {
   "cell_type": "code",
   "execution_count": 40,
   "metadata": {},
   "outputs": [],
   "source": [
    "model = models.load_model('/home/oneran/Documents/VGG16_ConvBase+Dense_512')"
   ]
  },
  {
   "cell_type": "code",
   "execution_count": 41,
   "metadata": {},
   "outputs": [
    {
     "output_type": "execute_result",
     "data": {
      "text/plain": [
       "[0.34193533658981323, 0.9319999814033508]"
      ]
     },
     "metadata": {},
     "execution_count": 41
    }
   ],
   "source": [
    "model.evaluate_generator(test_generator)"
   ]
  },
  {
   "cell_type": "code",
   "execution_count": 42,
   "metadata": {},
   "outputs": [],
   "source": [
    "model.get_layer('vgg16').trainable = True"
   ]
  },
  {
   "cell_type": "code",
   "execution_count": 43,
   "metadata": {},
   "outputs": [
    {
     "output_type": "stream",
     "name": "stdout",
     "text": [
      "Model: \"vgg16\"\n_________________________________________________________________\nLayer (type)                 Output Shape              Param #   \n=================================================================\ninput_1 (InputLayer)         [(None, 150, 150, 3)]     0         \n_________________________________________________________________\nblock1_conv1 (Conv2D)        (None, 150, 150, 64)      1792      \n_________________________________________________________________\nblock1_conv2 (Conv2D)        (None, 150, 150, 64)      36928     \n_________________________________________________________________\nblock1_pool (MaxPooling2D)   (None, 75, 75, 64)        0         \n_________________________________________________________________\nblock2_conv1 (Conv2D)        (None, 75, 75, 128)       73856     \n_________________________________________________________________\nblock2_conv2 (Conv2D)        (None, 75, 75, 128)       147584    \n_________________________________________________________________\nblock2_pool (MaxPooling2D)   (None, 37, 37, 128)       0         \n_________________________________________________________________\nblock3_conv1 (Conv2D)        (None, 37, 37, 256)       295168    \n_________________________________________________________________\nblock3_conv2 (Conv2D)        (None, 37, 37, 256)       590080    \n_________________________________________________________________\nblock3_conv3 (Conv2D)        (None, 37, 37, 256)       590080    \n_________________________________________________________________\nblock3_pool (MaxPooling2D)   (None, 18, 18, 256)       0         \n_________________________________________________________________\nblock4_conv1 (Conv2D)        (None, 18, 18, 512)       1180160   \n_________________________________________________________________\nblock4_conv2 (Conv2D)        (None, 18, 18, 512)       2359808   \n_________________________________________________________________\nblock4_conv3 (Conv2D)        (None, 18, 18, 512)       2359808   \n_________________________________________________________________\nblock4_pool (MaxPooling2D)   (None, 9, 9, 512)         0         \n_________________________________________________________________\nblock5_conv1 (Conv2D)        (None, 9, 9, 512)         2359808   \n_________________________________________________________________\nblock5_conv2 (Conv2D)        (None, 9, 9, 512)         2359808   \n_________________________________________________________________\nblock5_conv3 (Conv2D)        (None, 9, 9, 512)         2359808   \n_________________________________________________________________\nblock5_pool (MaxPooling2D)   (None, 4, 4, 512)         0         \n=================================================================\nTotal params: 14,714,688\nTrainable params: 14,714,688\nNon-trainable params: 0\n_________________________________________________________________\n"
     ]
    }
   ],
   "source": [
    "model.get_layer('vgg16').summary()"
   ]
  },
  {
   "cell_type": "code",
   "execution_count": 44,
   "metadata": {},
   "outputs": [],
   "source": [
    "model.get_layer('vgg16').trainable = True\n",
    "set_trainable = False\n",
    "for layer in model.get_layer('vgg16').layers:\n",
    "    if layer.name == 'block5_conv1':\n",
    "        set_trainable = True\n",
    "    if set_trainable:\n",
    "        layer.trainable = True\n",
    "    else:\n",
    "        layer.trainable = False"
   ]
  },
  {
   "cell_type": "code",
   "execution_count": 45,
   "metadata": {},
   "outputs": [
    {
     "output_type": "stream",
     "name": "stdout",
     "text": [
      "Model: \"vgg16\"\n_________________________________________________________________\nLayer (type)                 Output Shape              Param #   \n=================================================================\ninput_1 (InputLayer)         [(None, 150, 150, 3)]     0         \n_________________________________________________________________\nblock1_conv1 (Conv2D)        (None, 150, 150, 64)      1792      \n_________________________________________________________________\nblock1_conv2 (Conv2D)        (None, 150, 150, 64)      36928     \n_________________________________________________________________\nblock1_pool (MaxPooling2D)   (None, 75, 75, 64)        0         \n_________________________________________________________________\nblock2_conv1 (Conv2D)        (None, 75, 75, 128)       73856     \n_________________________________________________________________\nblock2_conv2 (Conv2D)        (None, 75, 75, 128)       147584    \n_________________________________________________________________\nblock2_pool (MaxPooling2D)   (None, 37, 37, 128)       0         \n_________________________________________________________________\nblock3_conv1 (Conv2D)        (None, 37, 37, 256)       295168    \n_________________________________________________________________\nblock3_conv2 (Conv2D)        (None, 37, 37, 256)       590080    \n_________________________________________________________________\nblock3_conv3 (Conv2D)        (None, 37, 37, 256)       590080    \n_________________________________________________________________\nblock3_pool (MaxPooling2D)   (None, 18, 18, 256)       0         \n_________________________________________________________________\nblock4_conv1 (Conv2D)        (None, 18, 18, 512)       1180160   \n_________________________________________________________________\nblock4_conv2 (Conv2D)        (None, 18, 18, 512)       2359808   \n_________________________________________________________________\nblock4_conv3 (Conv2D)        (None, 18, 18, 512)       2359808   \n_________________________________________________________________\nblock4_pool (MaxPooling2D)   (None, 9, 9, 512)         0         \n_________________________________________________________________\nblock5_conv1 (Conv2D)        (None, 9, 9, 512)         2359808   \n_________________________________________________________________\nblock5_conv2 (Conv2D)        (None, 9, 9, 512)         2359808   \n_________________________________________________________________\nblock5_conv3 (Conv2D)        (None, 9, 9, 512)         2359808   \n_________________________________________________________________\nblock5_pool (MaxPooling2D)   (None, 4, 4, 512)         0         \n=================================================================\nTotal params: 14,714,688\nTrainable params: 7,079,424\nNon-trainable params: 7,635,264\n_________________________________________________________________\n"
     ]
    }
   ],
   "source": [
    "model.get_layer('vgg16').summary()"
   ]
  },
  {
   "cell_type": "code",
   "execution_count": 46,
   "metadata": {},
   "outputs": [
    {
     "output_type": "stream",
     "name": "stdout",
     "text": [
      "Epoch 1/50\n",
      "100/100 [==============================] - 20s 192ms/step - loss: 0.1010 - acc: 0.9698 - val_loss: 0.3250 - val_acc: 0.9490\n",
      "Epoch 2/50\n",
      "100/100 [==============================] - 19s 185ms/step - loss: 0.1272 - acc: 0.9630 - val_loss: 0.2870 - val_acc: 0.9530\n",
      "Epoch 3/50\n",
      "100/100 [==============================] - 19s 186ms/step - loss: 0.0645 - acc: 0.9786 - val_loss: 0.3492 - val_acc: 0.9510\n",
      "Epoch 4/50\n",
      "100/100 [==============================] - 19s 186ms/step - loss: 0.0907 - acc: 0.9657 - val_loss: 0.3155 - val_acc: 0.9490\n",
      "Epoch 5/50\n",
      "100/100 [==============================] - 19s 186ms/step - loss: 0.1357 - acc: 0.9583 - val_loss: 0.3212 - val_acc: 0.9500\n",
      "Epoch 6/50\n",
      "100/100 [==============================] - 19s 187ms/step - loss: 0.1112 - acc: 0.9689 - val_loss: 0.3126 - val_acc: 0.9550\n",
      "Epoch 7/50\n",
      "100/100 [==============================] - 19s 187ms/step - loss: 0.1139 - acc: 0.9649 - val_loss: 0.2980 - val_acc: 0.9550\n",
      "Epoch 8/50\n",
      "100/100 [==============================] - 19s 185ms/step - loss: 0.0753 - acc: 0.9779 - val_loss: 0.2979 - val_acc: 0.9560\n",
      "Epoch 9/50\n",
      "100/100 [==============================] - 19s 186ms/step - loss: 0.1044 - acc: 0.9624 - val_loss: 0.2756 - val_acc: 0.9560\n",
      "Epoch 10/50\n",
      "100/100 [==============================] - 19s 186ms/step - loss: 0.0698 - acc: 0.9788 - val_loss: 0.3456 - val_acc: 0.9440\n",
      "Epoch 11/50\n",
      "100/100 [==============================] - 19s 185ms/step - loss: 0.1061 - acc: 0.9695 - val_loss: 0.3165 - val_acc: 0.9520\n",
      "Epoch 12/50\n",
      "100/100 [==============================] - 19s 185ms/step - loss: 0.0618 - acc: 0.9829 - val_loss: 0.2879 - val_acc: 0.9550\n",
      "Epoch 13/50\n",
      "100/100 [==============================] - 19s 186ms/step - loss: 0.0758 - acc: 0.9775 - val_loss: 0.3220 - val_acc: 0.9540\n",
      "Epoch 14/50\n",
      "100/100 [==============================] - 19s 187ms/step - loss: 0.0668 - acc: 0.9771 - val_loss: 0.4068 - val_acc: 0.9540\n",
      "Epoch 15/50\n",
      "100/100 [==============================] - 20s 196ms/step - loss: 0.0498 - acc: 0.9830 - val_loss: 0.2714 - val_acc: 0.9590\n",
      "Epoch 16/50\n",
      "100/100 [==============================] - 19s 185ms/step - loss: 0.0880 - acc: 0.9706 - val_loss: 0.2827 - val_acc: 0.9550\n",
      "Epoch 17/50\n",
      "100/100 [==============================] - 19s 185ms/step - loss: 0.0648 - acc: 0.9757 - val_loss: 0.2794 - val_acc: 0.9540\n",
      "Epoch 18/50\n",
      "100/100 [==============================] - 19s 190ms/step - loss: 0.0665 - acc: 0.9809 - val_loss: 0.2443 - val_acc: 0.9600\n",
      "Epoch 19/50\n",
      "100/100 [==============================] - 19s 193ms/step - loss: 0.0666 - acc: 0.9788 - val_loss: 0.2433 - val_acc: 0.9640\n",
      "Epoch 20/50\n",
      "100/100 [==============================] - 20s 200ms/step - loss: 0.0581 - acc: 0.9797 - val_loss: 0.2649 - val_acc: 0.9570\n",
      "Epoch 21/50\n",
      "100/100 [==============================] - 19s 191ms/step - loss: 0.0716 - acc: 0.9743 - val_loss: 0.2803 - val_acc: 0.9590\n",
      "Epoch 22/50\n",
      "100/100 [==============================] - 19s 192ms/step - loss: 0.0761 - acc: 0.9838 - val_loss: 0.3192 - val_acc: 0.9630\n",
      "Epoch 23/50\n",
      "100/100 [==============================] - 19s 190ms/step - loss: 0.0820 - acc: 0.9759 - val_loss: 0.2972 - val_acc: 0.9540\n",
      "Epoch 24/50\n",
      "100/100 [==============================] - 19s 194ms/step - loss: 0.0509 - acc: 0.9857 - val_loss: 0.3128 - val_acc: 0.9570\n",
      "Epoch 25/50\n",
      "100/100 [==============================] - 19s 185ms/step - loss: 0.0797 - acc: 0.9816 - val_loss: 0.3132 - val_acc: 0.9590\n",
      "Epoch 26/50\n",
      "100/100 [==============================] - 20s 201ms/step - loss: 0.0716 - acc: 0.9794 - val_loss: 0.3053 - val_acc: 0.9590\n",
      "Epoch 27/50\n",
      "100/100 [==============================] - 19s 185ms/step - loss: 0.0445 - acc: 0.9906 - val_loss: 0.3004 - val_acc: 0.9580\n",
      "Epoch 28/50\n",
      "100/100 [==============================] - 20s 201ms/step - loss: 0.0621 - acc: 0.9855 - val_loss: 0.3083 - val_acc: 0.9610\n",
      "Epoch 29/50\n",
      "100/100 [==============================] - 19s 185ms/step - loss: 0.0348 - acc: 0.9887 - val_loss: 0.3197 - val_acc: 0.9650\n",
      "Epoch 30/50\n",
      "100/100 [==============================] - 20s 202ms/step - loss: 0.0281 - acc: 0.9912 - val_loss: 0.3509 - val_acc: 0.9590\n",
      "Epoch 31/50\n",
      "100/100 [==============================] - 19s 187ms/step - loss: 0.0565 - acc: 0.9833 - val_loss: 0.3459 - val_acc: 0.9620\n",
      "Epoch 32/50\n",
      "100/100 [==============================] - 20s 195ms/step - loss: 0.0426 - acc: 0.9869 - val_loss: 0.3254 - val_acc: 0.9640\n",
      "Epoch 33/50\n",
      "100/100 [==============================] - 19s 186ms/step - loss: 0.0388 - acc: 0.9892 - val_loss: 0.3032 - val_acc: 0.9650\n",
      "Epoch 34/50\n",
      "100/100 [==============================] - 20s 197ms/step - loss: 0.0807 - acc: 0.9808 - val_loss: 0.3062 - val_acc: 0.9620\n",
      "Epoch 35/50\n",
      "100/100 [==============================] - 20s 195ms/step - loss: 0.0231 - acc: 0.9929 - val_loss: 0.5085 - val_acc: 0.9550\n",
      "Epoch 36/50\n",
      "100/100 [==============================] - 19s 188ms/step - loss: 0.0267 - acc: 0.9894 - val_loss: 0.3360 - val_acc: 0.9560\n",
      "Epoch 37/50\n",
      "100/100 [==============================] - 20s 195ms/step - loss: 0.0324 - acc: 0.9892 - val_loss: 0.3507 - val_acc: 0.9620\n",
      "Epoch 38/50\n",
      "100/100 [==============================] - 19s 190ms/step - loss: 0.0381 - acc: 0.9897 - val_loss: 0.3763 - val_acc: 0.9600\n",
      "Epoch 39/50\n",
      "100/100 [==============================] - 20s 201ms/step - loss: 0.0496 - acc: 0.9876 - val_loss: 0.4582 - val_acc: 0.9610\n",
      "Epoch 40/50\n",
      "100/100 [==============================] - 19s 186ms/step - loss: 0.0382 - acc: 0.9877 - val_loss: 0.4294 - val_acc: 0.9650\n",
      "Epoch 41/50\n",
      "100/100 [==============================] - 20s 201ms/step - loss: 0.0241 - acc: 0.9921 - val_loss: 0.3711 - val_acc: 0.9580\n",
      "Epoch 42/50\n",
      "100/100 [==============================] - 20s 196ms/step - loss: 0.0540 - acc: 0.9879 - val_loss: 0.3807 - val_acc: 0.9640\n",
      "Epoch 43/50\n",
      "100/100 [==============================] - 19s 189ms/step - loss: 0.0340 - acc: 0.9904 - val_loss: 0.3821 - val_acc: 0.9630\n",
      "Epoch 44/50\n",
      "100/100 [==============================] - 20s 196ms/step - loss: 0.0423 - acc: 0.9874 - val_loss: 0.3305 - val_acc: 0.9650\n",
      "Epoch 45/50\n",
      "100/100 [==============================] - 20s 202ms/step - loss: 0.0188 - acc: 0.9916 - val_loss: 0.3595 - val_acc: 0.9650\n",
      "Epoch 46/50\n",
      "100/100 [==============================] - 19s 186ms/step - loss: 0.0347 - acc: 0.9907 - val_loss: 0.3711 - val_acc: 0.9640\n",
      "Epoch 47/50\n",
      "100/100 [==============================] - 20s 201ms/step - loss: 0.0276 - acc: 0.9928 - val_loss: 0.3818 - val_acc: 0.9610\n",
      "Epoch 48/50\n",
      "100/100 [==============================] - 20s 202ms/step - loss: 0.0538 - acc: 0.9882 - val_loss: 0.4030 - val_acc: 0.9640\n",
      "Epoch 49/50\n",
      "100/100 [==============================] - 19s 186ms/step - loss: 0.0291 - acc: 0.9915 - val_loss: 0.5250 - val_acc: 0.9590\n",
      "Epoch 50/50\n",
      "100/100 [==============================] - 20s 200ms/step - loss: 0.0564 - acc: 0.9867 - val_loss: 0.4066 - val_acc: 0.9650\n"
     ]
    },
    {
     "output_type": "execute_result",
     "data": {
      "text/plain": [
       "<tensorflow.python.keras.callbacks.History at 0x7efffcce2820>"
      ]
     },
     "metadata": {},
     "execution_count": 46
    }
   ],
   "source": [
    "log_dir = '/home/oneran/Mycodes/DeepLearning/log/vgg16+ConvBlock5_NoFrozen_' + str(datetime.datetime.now()) + '_runtime_1'\n",
    "callbacks_tensorboard = TensorBoard(log_dir=log_dir, histogram_freq=1)\n",
    "model.compile(\n",
    "    optimizer=optimizers.RMSprop(lr=1e-5),\n",
    "    loss='binary_crossentropy',\n",
    "    metrics=['acc']\n",
    ")\n",
    "model.fit_generator(\n",
    "    train_generator,\n",
    "    epochs=50,\n",
    "    validation_data=validation_generator,\n",
    "    callbacks=callbacks_tensorboard\n",
    ")"
   ]
  },
  {
   "cell_type": "code",
   "execution_count": 47,
   "metadata": {},
   "outputs": [
    {
     "output_type": "execute_result",
     "data": {
      "text/plain": [
       "[0.4288623332977295, 0.9520000219345093]"
      ]
     },
     "metadata": {},
     "execution_count": 47
    }
   ],
   "source": [
    "model.evaluate_generator(\n",
    "    test_generator\n",
    ")"
   ]
  },
  {
   "cell_type": "code",
   "execution_count": null,
   "metadata": {},
   "outputs": [],
   "source": []
  }
 ]
}